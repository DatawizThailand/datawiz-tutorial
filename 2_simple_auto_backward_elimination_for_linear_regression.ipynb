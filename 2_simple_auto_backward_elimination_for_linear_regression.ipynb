{
  "nbformat": 4,
  "nbformat_minor": 0,
  "metadata": {
    "colab": {
      "name": "2) Simple auto backward elimination for linear regression.ipynb",
      "version": "0.3.2",
      "provenance": [],
      "collapsed_sections": []
    },
    "kernelspec": {
      "name": "python3",
      "display_name": "Python 3"
    }
  },
  "cells": [
    {
      "metadata": {
        "id": "n_UGsgIKLtpO",
        "colab_type": "text"
      },
      "cell_type": "markdown",
      "source": [
        "load ข้อมูล boston house price จาก sklearn"
      ]
    },
    {
      "metadata": {
        "id": "n6wNTCWMJYmg",
        "colab_type": "code",
        "colab": {}
      },
      "cell_type": "code",
      "source": [
        "from sklearn.datasets import load_boston\n",
        "import numpy as np\n",
        "import statsmodels.api as sm"
      ],
      "execution_count": 0,
      "outputs": []
    },
    {
      "metadata": {
        "id": "Fx2lSseBKVw0",
        "colab_type": "code",
        "colab": {}
      },
      "cell_type": "code",
      "source": [
        "data = load_boston()"
      ],
      "execution_count": 0,
      "outputs": []
    },
    {
      "metadata": {
        "id": "1UJBdTR-LDyP",
        "colab_type": "code",
        "outputId": "c5c9df94-5a4a-4f9d-b23d-0ed4b8d94db2",
        "colab": {
          "base_uri": "https://localhost:8080/",
          "height": 238
        }
      },
      "cell_type": "code",
      "source": [
        "data.data"
      ],
      "execution_count": 0,
      "outputs": [
        {
          "output_type": "execute_result",
          "data": {
            "text/plain": [
              "array([[6.3200e-03, 1.8000e+01, 2.3100e+00, ..., 1.5300e+01, 3.9690e+02,\n",
              "        4.9800e+00],\n",
              "       [2.7310e-02, 0.0000e+00, 7.0700e+00, ..., 1.7800e+01, 3.9690e+02,\n",
              "        9.1400e+00],\n",
              "       [2.7290e-02, 0.0000e+00, 7.0700e+00, ..., 1.7800e+01, 3.9283e+02,\n",
              "        4.0300e+00],\n",
              "       ...,\n",
              "       [6.0760e-02, 0.0000e+00, 1.1930e+01, ..., 2.1000e+01, 3.9690e+02,\n",
              "        5.6400e+00],\n",
              "       [1.0959e-01, 0.0000e+00, 1.1930e+01, ..., 2.1000e+01, 3.9345e+02,\n",
              "        6.4800e+00],\n",
              "       [4.7410e-02, 0.0000e+00, 1.1930e+01, ..., 2.1000e+01, 3.9690e+02,\n",
              "        7.8800e+00]])"
            ]
          },
          "metadata": {
            "tags": []
          },
          "execution_count": 125
        }
      ]
    },
    {
      "metadata": {
        "id": "VXeZwxisLYtg",
        "colab_type": "code",
        "outputId": "2c55a9ab-04a0-40e0-b11e-1fefc8a49370",
        "colab": {
          "base_uri": "https://localhost:8080/",
          "height": 51
        }
      },
      "cell_type": "code",
      "source": [
        "data.feature_names"
      ],
      "execution_count": 0,
      "outputs": [
        {
          "output_type": "execute_result",
          "data": {
            "text/plain": [
              "array(['CRIM', 'ZN', 'INDUS', 'CHAS', 'NOX', 'RM', 'AGE', 'DIS', 'RAD',\n",
              "       'TAX', 'PTRATIO', 'B', 'LSTAT'], dtype='<U7')"
            ]
          },
          "metadata": {
            "tags": []
          },
          "execution_count": 126
        }
      ]
    },
    {
      "metadata": {
        "id": "1Sqiou3LL8UE",
        "colab_type": "code",
        "colab": {}
      },
      "cell_type": "code",
      "source": [
        "X = data.data\n",
        "y = data.target\n",
        "\n",
        "# สร้าง list สำหรับเก็บชื่อ feature\n",
        "'''\n",
        "เติมชื่อ feature 'constant' ไว้ตัวแรกของ list feat_name ก่อน เพราะตัว model OLS ของ library statsmodel ตอนทำ linear regression\n",
        "จะไม่เติม constant ให้ เราต้องมาเติมเอง manually ด้วย sm.add_constant() ตามใน function ด้านล่าง\n",
        "ดังนั้นถ้าจะ fit linear regression โดยให้มีค่า constant ด้วย ก็ควรจะ add ชื่อมันมาเก็บไว้ด้วย\n",
        "'''\n",
        "feat_name = ['constant']\n",
        "feat_name += list(data.feature_names)"
      ],
      "execution_count": 0,
      "outputs": []
    },
    {
      "metadata": {
        "id": "W4EYoslFCvmH",
        "colab_type": "text"
      },
      "cell_type": "markdown",
      "source": [
        "สร้าง funciton สำหรับทำ backward elimination ver1: ตัดตัวแปรจากค่า p-value อย่างเดียวจนกว่าทุกตัวแปรมีค่า p-value ต่ำกว่า significance level ที่ตั้งไว้"
      ]
    },
    {
      "metadata": {
        "id": "-zWVPImxJbgv",
        "colab_type": "code",
        "colab": {}
      },
      "cell_type": "code",
      "source": [
        "def backward_elim(X,y,feat_name, sl):\n",
        "    \n",
        "    mod_feat_name = feat_name.copy()\n",
        "    numVars = X.shape[1]\n",
        "    \n",
        "    # เติม column ที่มีค่าเป็น 1 ทั้งหมด ไว้ข้างหน้า (สำหรับเป็นจุดตัดแกน y ใน สมการ linear)\n",
        "    X = sm.add_constant(X)\n",
        "    \n",
        "    for i in range(numVars):\n",
        "      \n",
        "        regressor_OLS = sm.OLS(y, X).fit()\n",
        "        p_max = np.max(regressor_OLS.pvalues)\n",
        "        \n",
        "        if p_max > sl:\n",
        "          X = np.delete(X, np.argmax(regressor_OLS.pvalues), 1)\n",
        "          del mod_feat_name[np.argmax(regressor_OLS.pvalues)]\n",
        "        else:\n",
        "          break\n",
        "          \n",
        "    print(regressor_OLS.summary())\n",
        "    return X, mod_feat_name"
      ],
      "execution_count": 0,
      "outputs": []
    },
    {
      "metadata": {
        "id": "8MQ-pUGbc3IK",
        "colab_type": "code",
        "outputId": "9a115642-26df-44ee-bd73-4ef892e12987",
        "colab": {
          "base_uri": "https://localhost:8080/",
          "height": 646
        }
      },
      "cell_type": "code",
      "source": [
        "X_bwe,mod_feat_name = backward_elim(X,y,feat_name,0.05)"
      ],
      "execution_count": 0,
      "outputs": [
        {
          "output_type": "stream",
          "text": [
            "                            OLS Regression Results                            \n",
            "==============================================================================\n",
            "Dep. Variable:                      y   R-squared:                       0.741\n",
            "Model:                            OLS   Adj. R-squared:                  0.735\n",
            "Method:                 Least Squares   F-statistic:                     128.2\n",
            "Date:                Fri, 02 Nov 2018   Prob (F-statistic):          5.74e-137\n",
            "Time:                        06:31:03   Log-Likelihood:                -1498.9\n",
            "No. Observations:                 506   AIC:                             3022.\n",
            "Df Residuals:                     494   BIC:                             3073.\n",
            "Df Model:                          11                                         \n",
            "Covariance Type:            nonrobust                                         \n",
            "==============================================================================\n",
            "                 coef    std err          t      P>|t|      [0.025      0.975]\n",
            "------------------------------------------------------------------------------\n",
            "const         36.3694      5.069      7.176      0.000      26.411      46.328\n",
            "x1            -0.1076      0.033     -3.296      0.001      -0.172      -0.043\n",
            "x2             0.0458      0.014      3.387      0.001       0.019       0.072\n",
            "x3             2.7212      0.854      3.185      0.002       1.043       4.400\n",
            "x4           -17.3956      3.536     -4.920      0.000     -24.343     -10.448\n",
            "x5             3.7966      0.406      9.343      0.000       2.998       4.595\n",
            "x6            -1.4934      0.186     -8.039      0.000      -1.858      -1.128\n",
            "x7             0.2991      0.063      4.719      0.000       0.175       0.424\n",
            "x8            -0.0118      0.003     -3.488      0.001      -0.018      -0.005\n",
            "x9            -0.9471      0.129     -7.337      0.000      -1.201      -0.693\n",
            "x10            0.0094      0.003      3.508      0.000       0.004       0.015\n",
            "x11           -0.5232      0.047    -11.037      0.000      -0.616      -0.430\n",
            "==============================================================================\n",
            "Omnibus:                      178.444   Durbin-Watson:                   1.078\n",
            "Prob(Omnibus):                  0.000   Jarque-Bera (JB):              786.944\n",
            "Skew:                           1.524   Prob(JB):                    1.31e-171\n",
            "Kurtosis:                       8.295   Cond. No.                     1.47e+04\n",
            "==============================================================================\n",
            "\n",
            "Warnings:\n",
            "[1] Standard Errors assume that the covariance matrix of the errors is correctly specified.\n",
            "[2] The condition number is large, 1.47e+04. This might indicate that there are\n",
            "strong multicollinearity or other numerical problems.\n"
          ],
          "name": "stdout"
        }
      ]
    },
    {
      "metadata": {
        "id": "4OmzAQvbsk1C",
        "colab_type": "code",
        "outputId": "a70291e4-104e-454a-e583-ca47b5320ea1",
        "colab": {
          "base_uri": "https://localhost:8080/",
          "height": 221
        }
      },
      "cell_type": "code",
      "source": [
        "mod_feat_name"
      ],
      "execution_count": 0,
      "outputs": [
        {
          "output_type": "execute_result",
          "data": {
            "text/plain": [
              "['constant',\n",
              " 'CRIM',\n",
              " 'ZN',\n",
              " 'CHAS',\n",
              " 'NOX',\n",
              " 'RM',\n",
              " 'DIS',\n",
              " 'RAD',\n",
              " 'TAX',\n",
              " 'PTRATIO',\n",
              " 'B',\n",
              " 'LSTAT']"
            ]
          },
          "metadata": {
            "tags": []
          },
          "execution_count": 130
        }
      ]
    },
    {
      "metadata": {
        "id": "otQJ37EpDP99",
        "colab_type": "text"
      },
      "cell_type": "markdown",
      "source": [
        "สร้าง funciton สำหรับทำ backward elimination ver2: ตัดตัวแปรจากค่า p-value  และเช็คว่า adjust R sqaured ไม่ลดลง"
      ]
    },
    {
      "metadata": {
        "id": "7z6ssUrXLyyb",
        "colab_type": "code",
        "colab": {}
      },
      "cell_type": "code",
      "source": [
        "def backward_elim2(X,y,feat_name, sl):\n",
        "  \n",
        "    mod_feat_name = feat_name.copy()\n",
        "    numVars = X.shape[1]\n",
        "    \n",
        "    # เติม column ที่มีค่าเป็น 1 ทั้งหมด ไว้ข้างหน้า (สำหรับเป็นจุดตัดแกน y ใน สมการ linear)\n",
        "    X = sm.add_constant(X)\n",
        "    \n",
        "    for i in range(numVars):\n",
        "      \n",
        "        regressor_OLS = sm.OLS(y, X).fit()\n",
        "        p_max = np.max(regressor_OLS.pvalues)\n",
        "        adjR_before = regressor_OLS.rsquared_adj\n",
        "        \n",
        "        if p_max > sl:\n",
        "            \n",
        "            idx_pmax = np.argmax(regressor_OLS.pvalues)\n",
        "            temp = X[:,idx_pmax]\n",
        "            X = np.delete(X, idx_pmax, 1)\n",
        "            tmp_regressor = sm.OLS(y, X).fit()\n",
        "            del_feat_name = mod_feat_name[idx_pmax]\n",
        "            mod_feat_name.remove(del_feat_name)\n",
        "            adjR_after = tmp_regressor.rsquared_adj\n",
        "            \n",
        "            # incase of rollback\n",
        "            if (adjR_before >= adjR_after):\n",
        "                X = np.concatenate((X,temp),axis=1)\n",
        "                mod_feat_name.append(del_feat_name)\n",
        "                print (regressor_OLS.summary())\n",
        "                return X, mod_feat_name\n",
        "            else:\n",
        "                continue\n",
        "                        \n",
        "        else:\n",
        "          break\n",
        "          \n",
        "    print(regressor_OLS.summary())\n",
        "    return X,mod_feat_name"
      ],
      "execution_count": 0,
      "outputs": []
    },
    {
      "metadata": {
        "id": "0YHM5nf1v97p",
        "colab_type": "code",
        "outputId": "147e99fd-4b1c-4967-c0aa-f21a94e1e6df",
        "colab": {
          "base_uri": "https://localhost:8080/",
          "height": 646
        }
      },
      "cell_type": "code",
      "source": [
        "X_bwe,mod_feat_name = backward_elim2(X,y,feat_name,0.05)"
      ],
      "execution_count": 0,
      "outputs": [
        {
          "output_type": "stream",
          "text": [
            "                            OLS Regression Results                            \n",
            "==============================================================================\n",
            "Dep. Variable:                      y   R-squared:                       0.741\n",
            "Model:                            OLS   Adj. R-squared:                  0.735\n",
            "Method:                 Least Squares   F-statistic:                     128.2\n",
            "Date:                Fri, 02 Nov 2018   Prob (F-statistic):          5.74e-137\n",
            "Time:                        06:07:31   Log-Likelihood:                -1498.9\n",
            "No. Observations:                 506   AIC:                             3022.\n",
            "Df Residuals:                     494   BIC:                             3073.\n",
            "Df Model:                          11                                         \n",
            "Covariance Type:            nonrobust                                         \n",
            "==============================================================================\n",
            "                 coef    std err          t      P>|t|      [0.025      0.975]\n",
            "------------------------------------------------------------------------------\n",
            "const         36.3694      5.069      7.176      0.000      26.411      46.328\n",
            "x1            -0.1076      0.033     -3.296      0.001      -0.172      -0.043\n",
            "x2             0.0458      0.014      3.387      0.001       0.019       0.072\n",
            "x3             2.7212      0.854      3.185      0.002       1.043       4.400\n",
            "x4           -17.3956      3.536     -4.920      0.000     -24.343     -10.448\n",
            "x5             3.7966      0.406      9.343      0.000       2.998       4.595\n",
            "x6            -1.4934      0.186     -8.039      0.000      -1.858      -1.128\n",
            "x7             0.2991      0.063      4.719      0.000       0.175       0.424\n",
            "x8            -0.0118      0.003     -3.488      0.001      -0.018      -0.005\n",
            "x9            -0.9471      0.129     -7.337      0.000      -1.201      -0.693\n",
            "x10            0.0094      0.003      3.508      0.000       0.004       0.015\n",
            "x11           -0.5232      0.047    -11.037      0.000      -0.616      -0.430\n",
            "==============================================================================\n",
            "Omnibus:                      178.444   Durbin-Watson:                   1.078\n",
            "Prob(Omnibus):                  0.000   Jarque-Bera (JB):              786.944\n",
            "Skew:                           1.524   Prob(JB):                    1.31e-171\n",
            "Kurtosis:                       8.295   Cond. No.                     1.47e+04\n",
            "==============================================================================\n",
            "\n",
            "Warnings:\n",
            "[1] Standard Errors assume that the covariance matrix of the errors is correctly specified.\n",
            "[2] The condition number is large, 1.47e+04. This might indicate that there are\n",
            "strong multicollinearity or other numerical problems.\n"
          ],
          "name": "stdout"
        }
      ]
    },
    {
      "metadata": {
        "id": "Ozts7oY0B8Z_",
        "colab_type": "code",
        "outputId": "a07411ca-a04f-4a8d-ec3d-41ea166edab5",
        "colab": {
          "base_uri": "https://localhost:8080/",
          "height": 221
        }
      },
      "cell_type": "code",
      "source": [
        "mod_feat_name"
      ],
      "execution_count": 0,
      "outputs": [
        {
          "output_type": "execute_result",
          "data": {
            "text/plain": [
              "['constant',\n",
              " 'CRIM',\n",
              " 'ZN',\n",
              " 'CHAS',\n",
              " 'NOX',\n",
              " 'RM',\n",
              " 'DIS',\n",
              " 'RAD',\n",
              " 'TAX',\n",
              " 'PTRATIO',\n",
              " 'B',\n",
              " 'LSTAT']"
            ]
          },
          "metadata": {
            "tags": []
          },
          "execution_count": 119
        }
      ]
    },
    {
      "metadata": {
        "id": "QQKIaFItCS8I",
        "colab_type": "code",
        "colab": {}
      },
      "cell_type": "code",
      "source": [
        ""
      ],
      "execution_count": 0,
      "outputs": []
    }
  ]
}