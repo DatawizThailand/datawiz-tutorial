{
  "nbformat": 4,
  "nbformat_minor": 0,
  "metadata": {
    "colab": {
      "name": "1) Simple Thai text preprocessing.ipynb",
      "version": "0.3.2",
      "provenance": [],
      "collapsed_sections": []
    },
    "kernelspec": {
      "name": "python3",
      "display_name": "Python 3"
    }
  },
  "cells": [
    {
      "metadata": {
        "id": "mIWbiNOsy4cj",
        "colab_type": "text"
      },
      "cell_type": "markdown",
      "source": [
        "# ข้อมูลตัวอย่าง"
      ]
    },
    {
      "metadata": {
        "id": "HiHhGmN_yw-E",
        "colab_type": "code",
        "colab": {}
      },
      "cell_type": "code",
      "source": [
        "text_list = ['''เฟ็ดเฟ่อย่างกับเดอะค็อป 999 (คลิป) <br> #ข่าวสด #เด่นออนไลน์ <br>รีบดูก่อนโดนลบ! เฟ็ดเฟ่สร้างความฮึกเฮิม นั่งหลังคารถชูถ้วยจุดพลุ มั่นใจมาแน่นอน \n",
        "            <br>บิวด์กันเข้าไป ก่อนเกมการแข่งขัน ยูฟ่าแชมเปียนส์ลีก รอบ … <br><img src='https://xxx'>''',\n",
        "             \n",
        "            '''แอดขอให้คุณผู้อ่านใช้วิจารณญาณและดุลยพินิจในการอ่าน คำพูดที่สอบถามคุณยายเป็นเพียงความข้างเดียวที่ออกมาจากใจและปากของคุณยาย ยังไม่มีโอกาสไปสอบถามความ\n",
        "            อีกมุมจากตัวลูกชายคนเล็ก #แม่เฒ่าถูกไล่ #แม่เฒ่าขาพิการ #พาหลานชายพิการนอนข้างทาง <br>'อย่าว่าเขาๆคงมีเหตุผล' 'ยาย'ถูก'ลูก'ไล่-ขอร้องแม้ปวดใจ <br>\n",
        "            ประชาชนที่รู้ข่าวต่างนำอาหารกับน้ำดื่ม ไปให้ 2 ยายหลานผู้พิการได้ดื่มกิน หลังถูกลูกชายไล่จนต้องนอนศาลาร.... <br><img src='https://xxx'>''']"
      ],
      "execution_count": 0,
      "outputs": []
    },
    {
      "metadata": {
        "id": "uNJnNAUE9UOe",
        "colab_type": "text"
      },
      "cell_type": "markdown",
      "source": [
        "**Step 1: Text cleaning**"
      ]
    },
    {
      "metadata": {
        "id": "7DLBXasQ2KW7",
        "colab_type": "code",
        "colab": {}
      },
      "cell_type": "code",
      "source": [
        "import re\n",
        "import string\n",
        "\n",
        "def clean_msg(msg):\n",
        "    \n",
        "    \n",
        "    # ลบ text ที่อยู่ในวงเล็บ <> ทั้งหมด\n",
        "    msg = re.sub(r'<.*?>','', msg)\n",
        "    \n",
        "    # ลบ hashtag\n",
        "    msg = re.sub(r'#','',msg)\n",
        "    \n",
        "    # ลบ เครื่องหมายคำพูด (punctuation)\n",
        "    for c in string.punctuation:\n",
        "        msg = re.sub(r'\\{}'.format(c),'',msg)\n",
        "    \n",
        "    # ลบ separator เช่น \\n \\t\n",
        "    msg = ' '.join(msg.split())\n",
        "    \n",
        "    return msg"
      ],
      "execution_count": 0,
      "outputs": []
    },
    {
      "metadata": {
        "id": "cAqZE1H92fLY",
        "colab_type": "code",
        "outputId": "6c722dc3-48c1-4993-e18d-d7291469071e",
        "colab": {
          "base_uri": "https://localhost:8080/",
          "height": 122
        }
      },
      "cell_type": "code",
      "source": [
        "print('original text:\\n',text_list[0])\n",
        "print('clean text:\\n',clean_msg(text_list[0]))"
      ],
      "execution_count": 0,
      "outputs": [
        {
          "output_type": "stream",
          "text": [
            "original text:\n",
            " เฟ็ดเฟ่อย่างกับเดอะค็อป 999 (คลิป) <br> #ข่าวสด #เด่นออนไลน์ <br>รีบดูก่อนโดนลบ! เฟ็ดเฟ่สร้างความฮึกเฮิม นั่งหลังคารถชูถ้วยจุดพลุ มั่นใจมาแน่นอน \n",
            "            <br>บิวด์กันเข้าไป ก่อนเกมการแข่งขัน ยูฟ่าแชมเปียนส์ลีก รอบ … <br><img src='https://xxx'>\n",
            "clean text:\n",
            " เฟ็ดเฟ่อย่างกับเดอะค็อป 999 คลิป ข่าวสด เด่นออนไลน์ รีบดูก่อนโดนลบ เฟ็ดเฟ่สร้างความฮึกเฮิม นั่งหลังคารถชูถ้วยจุดพลุ มั่นใจมาแน่นอน บิวด์กันเข้าไป ก่อนเกมการแข่งขัน ยูฟ่าแชมเปียนส์ลีก รอบ …\n"
          ],
          "name": "stdout"
        }
      ]
    },
    {
      "metadata": {
        "id": "TXzjQ3fj2iWY",
        "colab_type": "code",
        "outputId": "a5dd32e1-1089-4d42-83ef-45c28a060e82",
        "colab": {
          "base_uri": "https://localhost:8080/",
          "height": 139
        }
      },
      "cell_type": "code",
      "source": [
        "print('original text:\\n',text_list[1])\n",
        "print('clean text:\\n',clean_msg(text_list[1]))"
      ],
      "execution_count": 0,
      "outputs": [
        {
          "output_type": "stream",
          "text": [
            "original text:\n",
            " แอดขอให้คุณผู้อ่านใช้วิจารณญาณและดุลยพินิจในการอ่าน คำพูดที่สอบถามคุณยายเป็นเพียงความข้างเดียวที่ออกมาจากใจและปากของคุณยาย ยังไม่มีโอกาสไปสอบถามความ\n",
            "            อีกมุมจากตัวลูกชายคนเล็ก #แม่เฒ่าถูกไล่ #แม่เฒ่าขาพิการ #พาหลานชายพิการนอนข้างทาง <br>'อย่าว่าเขาๆคงมีเหตุผล' 'ยาย'ถูก'ลูก'ไล่-ขอร้องแม้ปวดใจ <br>\n",
            "            ประชาชนที่รู้ข่าวต่างนำอาหารกับน้ำดื่ม ไปให้ 2 ยายหลานผู้พิการได้ดื่มกิน หลังถูกลูกชายไล่จนต้องนอนศาลาร.... <br><img src='https://xxx'>\n",
            "clean text:\n",
            " แอดขอให้คุณผู้อ่านใช้วิจารณญาณและดุลยพินิจในการอ่าน คำพูดที่สอบถามคุณยายเป็นเพียงความข้างเดียวที่ออกมาจากใจและปากของคุณยาย ยังไม่มีโอกาสไปสอบถามความ อีกมุมจากตัวลูกชายคนเล็ก แม่เฒ่าถูกไล่ แม่เฒ่าขาพิการ พาหลานชายพิการนอนข้างทาง อย่าว่าเขาๆคงมีเหตุผล ยายถูกลูกไล่ขอร้องแม้ปวดใจ ประชาชนที่รู้ข่าวต่างนำอาหารกับน้ำดื่ม ไปให้ 2 ยายหลานผู้พิการได้ดื่มกิน หลังถูกลูกชายไล่จนต้องนอนศาลาร\n"
          ],
          "name": "stdout"
        }
      ]
    },
    {
      "metadata": {
        "id": "XM4tAaU2Gxf-",
        "colab_type": "code",
        "colab": {}
      },
      "cell_type": "code",
      "source": [
        "clean_text = [clean_msg(txt) for txt in text_list]"
      ],
      "execution_count": 0,
      "outputs": []
    },
    {
      "metadata": {
        "id": "HMsJiL3-_4p5",
        "colab_type": "text"
      },
      "cell_type": "markdown",
      "source": [
        "**Step 2: Tokenize**"
      ]
    },
    {
      "metadata": {
        "id": "nd_Ssn4S_cLf",
        "colab_type": "code",
        "outputId": "a5fa2bd8-49cd-4c28-8f9f-03a37b528ebf",
        "colab": {
          "base_uri": "https://localhost:8080/",
          "height": 700
        }
      },
      "cell_type": "code",
      "source": [
        "!pip install pythainlp\n",
        "!pip install stop_words\n",
        "import pythainlp\n",
        "from pythainlp import word_tokenize\n",
        "from pythainlp.corpus import stopwords\n",
        "from pythainlp.corpus import wordnet\n",
        "from nltk.stem.porter import PorterStemmer\n",
        "from nltk.corpus import words\n",
        "from stop_words import get_stop_words"
      ],
      "execution_count": 0,
      "outputs": [
        {
          "output_type": "stream",
          "text": [
            "Collecting pythainlp\n",
            "\u001b[?25l  Downloading https://files.pythonhosted.org/packages/ca/e7/6d31a11de701d820df630e3fd0e4038efbd86aa73f76198539c7d59652ea/pythainlp-1.7.3-py3-none-any.whl (10.3MB)\n",
            "\u001b[K    100% |████████████████████████████████| 10.3MB 3.4MB/s \n",
            "\u001b[?25hRequirement already satisfied: six in /usr/local/lib/python3.6/dist-packages (from pythainlp) (1.11.0)\n",
            "Requirement already satisfied: dill in /usr/local/lib/python3.6/dist-packages (from pythainlp) (0.2.9)\n",
            "Collecting conllu (from pythainlp)\n",
            "  Downloading https://files.pythonhosted.org/packages/ca/82/b02495f1c594cfb4af9b1eb8f404e35c1298a1448fc950b37f14c3e83317/conllu-1.2.3-py2.py3-none-any.whl\n",
            "Collecting tinydb (from pythainlp)\n",
            "  Downloading https://files.pythonhosted.org/packages/d9/2b/98040184cfbf03113736a160ea35aa92dc3619312ba5a4d6cafaf7f81c73/tinydb-3.12.2-py2.py3-none-any.whl\n",
            "Collecting marisa-trie (from pythainlp)\n",
            "\u001b[?25l  Downloading https://files.pythonhosted.org/packages/20/95/d23071d0992dabcb61c948fb118a90683193befc88c23e745b050a29e7db/marisa-trie-0.7.5.tar.gz (270kB)\n",
            "\u001b[K    100% |████████████████████████████████| 276kB 30.6MB/s \n",
            "\u001b[?25hRequirement already satisfied: tqdm in /usr/local/lib/python3.6/dist-packages (from pythainlp) (4.28.1)\n",
            "Requirement already satisfied: pytz in /usr/local/lib/python3.6/dist-packages (from pythainlp) (2018.9)\n",
            "Requirement already satisfied: requests in /usr/local/lib/python3.6/dist-packages (from pythainlp) (2.18.4)\n",
            "Requirement already satisfied: future>=0.16.0 in /usr/local/lib/python3.6/dist-packages (from pythainlp) (0.16.0)\n",
            "Requirement already satisfied: nltk>=3.2.2 in /usr/local/lib/python3.6/dist-packages (from pythainlp) (3.2.5)\n",
            "Requirement already satisfied: chardet<3.1.0,>=3.0.2 in /usr/local/lib/python3.6/dist-packages (from requests->pythainlp) (3.0.4)\n",
            "Requirement already satisfied: certifi>=2017.4.17 in /usr/local/lib/python3.6/dist-packages (from requests->pythainlp) (2018.11.29)\n",
            "Requirement already satisfied: idna<2.7,>=2.5 in /usr/local/lib/python3.6/dist-packages (from requests->pythainlp) (2.6)\n",
            "Requirement already satisfied: urllib3<1.23,>=1.21.1 in /usr/local/lib/python3.6/dist-packages (from requests->pythainlp) (1.22)\n",
            "Building wheels for collected packages: marisa-trie\n",
            "  Building wheel for marisa-trie (setup.py) ... \u001b[?25ldone\n",
            "\u001b[?25h  Stored in directory: /root/.cache/pip/wheels/45/24/79/022624fc914f0e559fe8a1141aaff1f9df810905a13fc75d57\n",
            "Successfully built marisa-trie\n",
            "Installing collected packages: conllu, tinydb, marisa-trie, pythainlp\n",
            "Successfully installed conllu-1.2.3 marisa-trie-0.7.5 pythainlp-1.7.3 tinydb-3.12.2\n",
            "Collecting stop_words\n",
            "  Downloading https://files.pythonhosted.org/packages/1c/cb/d58290804b7a4c5daa42abbbe2a93c477ae53e45541b1825e86f0dfaaf63/stop-words-2018.7.23.tar.gz\n",
            "Building wheels for collected packages: stop-words\n",
            "  Building wheel for stop-words (setup.py) ... \u001b[?25ldone\n",
            "\u001b[?25h  Stored in directory: /root/.cache/pip/wheels/75/37/6a/2b295e03bd07290f0da95c3adb9a74ba95fbc333aa8b0c7c78\n",
            "Successfully built stop-words\n",
            "Installing collected packages: stop-words\n",
            "Successfully installed stop-words-2018.7.23\n",
            "[nltk_data] Downloading package wordnet to /root/nltk_data...\n",
            "[nltk_data]   Unzipping corpora/wordnet.zip.\n",
            "[nltk_data] Downloading package omw to /root/nltk_data...\n",
            "[nltk_data]   Unzipping corpora/omw.zip.\n"
          ],
          "name": "stdout"
        }
      ]
    },
    {
      "metadata": {
        "id": "8t8BnELxAiAo",
        "colab_type": "code",
        "outputId": "bafb6d37-b6d0-41c2-a9c1-6aa625cb0712",
        "colab": {
          "base_uri": "https://localhost:8080/",
          "height": 51
        }
      },
      "cell_type": "code",
      "source": [
        "import nltk\n",
        "nltk.download('words')\n",
        "th_stop = tuple(stopwords.words('thai'))\n",
        "en_stop = tuple(get_stop_words('en'))\n",
        "p_stemmer = PorterStemmer()"
      ],
      "execution_count": 0,
      "outputs": [
        {
          "output_type": "stream",
          "text": [
            "[nltk_data] Downloading package words to /root/nltk_data...\n",
            "[nltk_data]   Unzipping corpora/words.zip.\n"
          ],
          "name": "stdout"
        }
      ]
    },
    {
      "metadata": {
        "id": "L0PE6j5gAk2O",
        "colab_type": "code",
        "colab": {}
      },
      "cell_type": "code",
      "source": [
        "def split_word(text):\n",
        "            \n",
        "    \n",
        "    tokens = word_tokenize(text,engine='newmm')\n",
        "    \n",
        "    # Remove stop words ภาษาไทย และภาษาอังกฤษ\n",
        "    tokens = [i for i in tokens if not i in th_stop and not i in en_stop]\n",
        "    \n",
        "    # หารากศัพท์ภาษาไทย และภาษาอังกฤษ\n",
        "    # English\n",
        "    tokens = [p_stemmer.stem(i) for i in tokens]\n",
        "    \n",
        "    # Thai\n",
        "    tokens_temp=[]\n",
        "    for i in tokens:\n",
        "        w_syn = wordnet.synsets(i)\n",
        "        if (len(w_syn)>0) and (len(w_syn[0].lemma_names('tha'))>0):\n",
        "            tokens_temp.append(w_syn[0].lemma_names('tha')[0])\n",
        "        else:\n",
        "            tokens_temp.append(i)\n",
        "    \n",
        "    tokens = tokens_temp\n",
        "    \n",
        "    # ลบตัวเลข\n",
        "    tokens = [i for i in tokens if not i.isnumeric()]\n",
        "    \n",
        "    # ลบช่องว่าง\n",
        "    tokens = [i for i in tokens if not ' ' in i]\n",
        "\n",
        "    return tokens"
      ],
      "execution_count": 0,
      "outputs": []
    },
    {
      "metadata": {
        "id": "Ncd6qBzeCtDD",
        "colab_type": "code",
        "outputId": "fe6ec4cc-9ccd-4196-fcff-d2ac7891d326",
        "colab": {
          "base_uri": "https://localhost:8080/",
          "height": 105
        }
      },
      "cell_type": "code",
      "source": [
        "print('tokenized text:\\n',split_word(clean_msg(text_list[0])))\n",
        "print('tokenized text:\\n',split_word(clean_msg(text_list[1])))"
      ],
      "execution_count": 0,
      "outputs": [
        {
          "output_type": "stream",
          "text": [
            "tokenized text:\n",
            " ['เฟ็ด', 'เฟ่', 'เดอะ', 'ค็อป', 'คลิป', 'ข่าวสด', 'เด่น', 'ออนไลน์', 'รีบ', 'ดูก่อน', 'โดน', 'ลบ', 'เฟ็ด', 'เฟ่', 'สร้าง', 'ฮึก', 'เฮิม', 'นั่ง', 'หลังคา', 'รถ', 'ชู', 'ถ้วย', 'จุด', 'พลุ', 'มั่น', 'ใจมา', 'แน่นอน', 'บิ', 'วด์', 'เข้าไป', 'เกม', 'การแข่งขัน', 'ยูฟ่า', 'แชมเปียนส์', 'ลีก', 'รอบ', '…']\n",
            "tokenized text:\n",
            " ['แอด', 'ขอให้', 'คนอ่าน', 'วิจารณญาณ', 'ดุลยพินิจ', 'อ่าน', 'คำพูด', 'สอบถาม', 'ยาย', 'ข้างเดียว', 'มาจาก', 'ใจ', 'ปาก', 'ยาย', 'มีโอกาส', 'สอบถาม', 'มุม', 'ตัว', 'โอรส', 'คน', 'ยาย', 'ไล่', 'ยาย', 'ขา', 'พิการ', 'หลานชาย', 'พิการ', 'นอน', 'ข้างทาง', 'อย่า', 'ๆคง', 'มีเหตุผล', 'ยาย', 'ลูกไล่', 'ขอร้อง', 'ปวดใจ', 'ปชช.', 'รู้', 'ข่าว', 'อาหาร', 'น้ำ', 'ยาย', 'หลาน', 'พิการ', 'กิน', 'กิน', 'โอรส', 'ไล่', 'นอน', 'ศาลา', 'ร']\n"
          ],
          "name": "stdout"
        }
      ]
    },
    {
      "metadata": {
        "id": "_E6wussDHCkm",
        "colab_type": "code",
        "colab": {}
      },
      "cell_type": "code",
      "source": [
        "tokens_list = [split_word(txt) for txt in clean_text]"
      ],
      "execution_count": 0,
      "outputs": []
    },
    {
      "metadata": {
        "id": "0FXgJH4JHPYg",
        "colab_type": "code",
        "outputId": "d0a593a8-5dd0-4513-a9f2-e6c037bd204b",
        "colab": {
          "base_uri": "https://localhost:8080/",
          "height": 1513
        }
      },
      "cell_type": "code",
      "source": [
        "tokens_list"
      ],
      "execution_count": 0,
      "outputs": [
        {
          "output_type": "execute_result",
          "data": {
            "text/plain": [
              "[['เฟ็ด',\n",
              "  'เฟ่',\n",
              "  'เดอะ',\n",
              "  'ค็อป',\n",
              "  'คลิป',\n",
              "  'ข่าวสด',\n",
              "  'เด่น',\n",
              "  'ออนไลน์',\n",
              "  'รีบ',\n",
              "  'ดูก่อน',\n",
              "  'โดน',\n",
              "  'ลบ',\n",
              "  'เฟ็ด',\n",
              "  'เฟ่',\n",
              "  'สร้าง',\n",
              "  'ฮึก',\n",
              "  'เฮิม',\n",
              "  'นั่ง',\n",
              "  'หลังคา',\n",
              "  'รถ',\n",
              "  'ชู',\n",
              "  'ถ้วย',\n",
              "  'จุด',\n",
              "  'พลุ',\n",
              "  'มั่น',\n",
              "  'ใจมา',\n",
              "  'แน่นอน',\n",
              "  'บิ',\n",
              "  'วด์',\n",
              "  'เข้าไป',\n",
              "  'เกม',\n",
              "  'การแข่งขัน',\n",
              "  'ยูฟ่า',\n",
              "  'แชมเปียนส์',\n",
              "  'ลีก',\n",
              "  'รอบ',\n",
              "  '…'],\n",
              " ['แอด',\n",
              "  'ขอให้',\n",
              "  'คนอ่าน',\n",
              "  'วิจารณญาณ',\n",
              "  'ดุลยพินิจ',\n",
              "  'อ่าน',\n",
              "  'คำพูด',\n",
              "  'สอบถาม',\n",
              "  'ยาย',\n",
              "  'ข้างเดียว',\n",
              "  'มาจาก',\n",
              "  'ใจ',\n",
              "  'ปาก',\n",
              "  'ยาย',\n",
              "  'มีโอกาส',\n",
              "  'สอบถาม',\n",
              "  'มุม',\n",
              "  'ตัว',\n",
              "  'โอรส',\n",
              "  'คน',\n",
              "  'ยาย',\n",
              "  'ไล่',\n",
              "  'ยาย',\n",
              "  'ขา',\n",
              "  'พิการ',\n",
              "  'หลานชาย',\n",
              "  'พิการ',\n",
              "  'นอน',\n",
              "  'ข้างทาง',\n",
              "  'อย่า',\n",
              "  'ๆคง',\n",
              "  'มีเหตุผล',\n",
              "  'ยาย',\n",
              "  'ลูกไล่',\n",
              "  'ขอร้อง',\n",
              "  'ปวดใจ',\n",
              "  'ปชช.',\n",
              "  'รู้',\n",
              "  'ข่าว',\n",
              "  'อาหาร',\n",
              "  'น้ำ',\n",
              "  'ยาย',\n",
              "  'หลาน',\n",
              "  'พิการ',\n",
              "  'กิน',\n",
              "  'กิน',\n",
              "  'โอรส',\n",
              "  'ไล่',\n",
              "  'นอน',\n",
              "  'ศาลา',\n",
              "  'ร']]"
            ]
          },
          "metadata": {
            "tags": []
          },
          "execution_count": 11
        }
      ]
    },
    {
      "metadata": {
        "id": "5xyaFdoLF-bm",
        "colab_type": "text"
      },
      "cell_type": "markdown",
      "source": [
        "**Step 3 + 4a: Bag of words + count word**"
      ]
    },
    {
      "metadata": {
        "id": "KacGNWcMjzrn",
        "colab_type": "code",
        "colab": {}
      },
      "cell_type": "code",
      "source": [
        "from sklearn.feature_extraction.text import CountVectorizer\n",
        "tokens_list_j = [','.join(tkn) for tkn in tokens_list]\n",
        "cvec = CountVectorizer(analyzer=lambda x:x.split(','))\n",
        "c_feat = cvec.fit_transform(tokens_list_j)"
      ],
      "execution_count": 0,
      "outputs": []
    },
    {
      "metadata": {
        "id": "LOcncIVCkvw6",
        "colab_type": "code",
        "outputId": "dd34f2d2-e0ab-4038-d2f0-a6a7f62f58ec",
        "colab": {
          "base_uri": "https://localhost:8080/",
          "height": 1275
        }
      },
      "cell_type": "code",
      "source": [
        "cvec.vocabulary_"
      ],
      "execution_count": 0,
      "outputs": [
        {
          "output_type": "execute_result",
          "data": {
            "text/plain": [
              "{'การแข่งขัน': 0,\n",
              " 'กิน': 1,\n",
              " 'ขอร้อง': 2,\n",
              " 'ขอให้': 3,\n",
              " 'ขา': 4,\n",
              " 'ข่าว': 5,\n",
              " 'ข่าวสด': 6,\n",
              " 'ข้างทาง': 7,\n",
              " 'ข้างเดียว': 8,\n",
              " 'คน': 9,\n",
              " 'คนอ่าน': 10,\n",
              " 'คลิป': 11,\n",
              " 'คำพูด': 12,\n",
              " 'ค็อป': 13,\n",
              " 'จุด': 14,\n",
              " 'ชู': 15,\n",
              " 'ดุลยพินิจ': 16,\n",
              " 'ดูก่อน': 17,\n",
              " 'ตัว': 18,\n",
              " 'ถ้วย': 19,\n",
              " 'นอน': 20,\n",
              " 'นั่ง': 21,\n",
              " 'น้ำ': 22,\n",
              " 'บิ': 23,\n",
              " 'ปชช.': 24,\n",
              " 'ปวดใจ': 25,\n",
              " 'ปาก': 26,\n",
              " 'พลุ': 27,\n",
              " 'พิการ': 28,\n",
              " 'มั่น': 29,\n",
              " 'มาจาก': 30,\n",
              " 'มีเหตุผล': 31,\n",
              " 'มีโอกาส': 32,\n",
              " 'มุม': 33,\n",
              " 'ยาย': 34,\n",
              " 'ยูฟ่า': 35,\n",
              " 'ร': 36,\n",
              " 'รถ': 37,\n",
              " 'รอบ': 38,\n",
              " 'รีบ': 39,\n",
              " 'รู้': 40,\n",
              " 'ลบ': 41,\n",
              " 'ลีก': 42,\n",
              " 'ลูกไล่': 43,\n",
              " 'วด์': 44,\n",
              " 'วิจารณญาณ': 45,\n",
              " 'ศาลา': 46,\n",
              " 'สร้าง': 47,\n",
              " 'สอบถาม': 48,\n",
              " 'หลังคา': 49,\n",
              " 'หลาน': 50,\n",
              " 'หลานชาย': 51,\n",
              " 'อย่า': 52,\n",
              " 'ออนไลน์': 53,\n",
              " 'อาหาร': 54,\n",
              " 'อ่าน': 55,\n",
              " 'ฮึก': 56,\n",
              " 'เกม': 57,\n",
              " 'เข้าไป': 58,\n",
              " 'เดอะ': 59,\n",
              " 'เด่น': 60,\n",
              " 'เฟ็ด': 61,\n",
              " 'เฟ่': 62,\n",
              " 'เฮิม': 63,\n",
              " 'แชมเปียนส์': 64,\n",
              " 'แน่นอน': 65,\n",
              " 'แอด': 66,\n",
              " 'โดน': 67,\n",
              " 'โอรส': 68,\n",
              " 'ใจ': 69,\n",
              " 'ใจมา': 70,\n",
              " 'ไล่': 71,\n",
              " 'ๆคง': 72,\n",
              " '…': 73}"
            ]
          },
          "metadata": {
            "tags": []
          },
          "execution_count": 14
        }
      ]
    },
    {
      "metadata": {
        "id": "MCfZP-NMb0lM",
        "colab_type": "code",
        "outputId": "88efc12b-2d21-4c8d-bec4-16da347ee730",
        "colab": {
          "base_uri": "https://localhost:8080/",
          "height": 51
        }
      },
      "cell_type": "code",
      "source": [
        "c_feat[:,:20].todense()"
      ],
      "execution_count": 0,
      "outputs": [
        {
          "output_type": "execute_result",
          "data": {
            "text/plain": [
              "matrix([[1, 0, 0, 0, 0, 0, 1, 0, 0, 0, 0, 1, 0, 1, 1, 1, 0, 1, 0, 1],\n",
              "        [0, 2, 1, 1, 1, 1, 0, 1, 1, 1, 1, 0, 1, 0, 0, 0, 1, 0, 1, 0]])"
            ]
          },
          "metadata": {
            "tags": []
          },
          "execution_count": 15
        }
      ]
    },
    {
      "metadata": {
        "id": "nmOB-4XYp5FM",
        "colab_type": "text"
      },
      "cell_type": "markdown",
      "source": [
        "**Step 3 + 4b: Bag of words + tf-idf**"
      ]
    },
    {
      "metadata": {
        "id": "3BGXh4AIiVIg",
        "colab_type": "code",
        "colab": {}
      },
      "cell_type": "code",
      "source": [
        "from sklearn.feature_extraction.text import TfidfVectorizer\n",
        "tvec = TfidfVectorizer(analyzer=lambda x:x.split(','),)\n",
        "t_feat = tvec.fit_transform(tokens_list_j)"
      ],
      "execution_count": 0,
      "outputs": []
    },
    {
      "metadata": {
        "id": "FXpAGrHaqLAg",
        "colab_type": "code",
        "outputId": "fb8f31f5-ce95-4eea-dfe7-77727395d327",
        "colab": {
          "base_uri": "https://localhost:8080/",
          "height": 51
        }
      },
      "cell_type": "code",
      "source": [
        "t_feat[:,:5].todense()"
      ],
      "execution_count": 0,
      "outputs": [
        {
          "output_type": "execute_result",
          "data": {
            "text/plain": [
              "matrix([[0.15617376, 0.        , 0.        , 0.        , 0.        ],\n",
              "        [0.        , 0.20306923, 0.10153462, 0.10153462, 0.10153462]])"
            ]
          },
          "metadata": {
            "tags": []
          },
          "execution_count": 25
        }
      ]
    },
    {
      "metadata": {
        "id": "94JnkQ1CqMnO",
        "colab_type": "code",
        "outputId": "14393151-f48c-4150-e898-426559d99497",
        "colab": {
          "base_uri": "https://localhost:8080/",
          "height": 34
        }
      },
      "cell_type": "code",
      "source": [
        "print(len(tvec.idf_),len(tvec.vocabulary_))"
      ],
      "execution_count": 0,
      "outputs": [
        {
          "output_type": "stream",
          "text": [
            "74 74\n"
          ],
          "name": "stdout"
        }
      ]
    },
    {
      "metadata": {
        "id": "xNr2NEFwpZ6r",
        "colab_type": "code",
        "outputId": "489efce1-2e26-462d-90a7-06e7d0ead8e7",
        "colab": {
          "base_uri": "https://localhost:8080/",
          "height": 51
        }
      },
      "cell_type": "code",
      "source": [
        "c_feat[:,:5].todense()"
      ],
      "execution_count": 0,
      "outputs": [
        {
          "output_type": "execute_result",
          "data": {
            "text/plain": [
              "matrix([[1, 0, 0, 0, 0],\n",
              "        [0, 2, 1, 1, 1]])"
            ]
          },
          "metadata": {
            "tags": []
          },
          "execution_count": 32
        }
      ]
    },
    {
      "metadata": {
        "id": "nkMP7HMKtMM6",
        "colab_type": "code",
        "colab": {}
      },
      "cell_type": "code",
      "source": [
        ""
      ],
      "execution_count": 0,
      "outputs": []
    }
  ]
}