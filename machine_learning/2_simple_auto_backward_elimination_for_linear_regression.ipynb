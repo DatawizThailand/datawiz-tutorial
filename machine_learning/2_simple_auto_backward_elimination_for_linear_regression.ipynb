{
 "cells": [
  {
   "cell_type": "markdown",
   "metadata": {},
   "source": [
    "# Simple Auto Backward Elimination for Linear Regression"
   ]
  },
  {
   "cell_type": "markdown",
   "metadata": {
    "colab_type": "text",
    "id": "n_UGsgIKLtpO"
   },
   "source": [
    "Download ข้อมูล boston house price จาก sklearn"
   ]
  },
  {
   "cell_type": "code",
   "execution_count": null,
   "metadata": {},
   "outputs": [],
   "source": [
    "!pip install statsmodels --user"
   ]
  },
  {
   "cell_type": "code",
   "execution_count": 1,
   "metadata": {
    "colab": {},
    "colab_type": "code",
    "id": "n6wNTCWMJYmg"
   },
   "outputs": [
    {
     "name": "stdout",
     "output_type": "stream",
     "text": [
      "[[6.3200e-03 1.8000e+01 2.3100e+00 ... 1.5300e+01 3.9690e+02 4.9800e+00]\n",
      " [2.7310e-02 0.0000e+00 7.0700e+00 ... 1.7800e+01 3.9690e+02 9.1400e+00]\n",
      " [2.7290e-02 0.0000e+00 7.0700e+00 ... 1.7800e+01 3.9283e+02 4.0300e+00]\n",
      " ...\n",
      " [6.0760e-02 0.0000e+00 1.1930e+01 ... 2.1000e+01 3.9690e+02 5.6400e+00]\n",
      " [1.0959e-01 0.0000e+00 1.1930e+01 ... 2.1000e+01 3.9345e+02 6.4800e+00]\n",
      " [4.7410e-02 0.0000e+00 1.1930e+01 ... 2.1000e+01 3.9690e+02 7.8800e+00]] \n",
      "\n",
      "Feature Names: ['CRIM' 'ZN' 'INDUS' 'CHAS' 'NOX' 'RM' 'AGE' 'DIS' 'RAD' 'TAX' 'PTRATIO'\n",
      " 'B' 'LSTAT']\n"
     ]
    }
   ],
   "source": [
    "from sklearn.datasets import load_boston\n",
    "\n",
    "import numpy as np\n",
    "import statsmodels.api as sm\n",
    "\n",
    "data = load_boston()\n",
    "\n",
    "print(data.data,'\\n\\nFeature Names:', data.feature_names)"
   ]
  },
  {
   "cell_type": "code",
   "execution_count": 2,
   "metadata": {
    "colab": {},
    "colab_type": "code",
    "id": "1Sqiou3LL8UE"
   },
   "outputs": [],
   "source": [
    "X = data.data\n",
    "y = data.target\n",
    "\n",
    "# สร้าง list สำหรับเก็บชื่อ feature\n",
    "'''\n",
    "เติมชื่อ feature 'constant' ไว้ตัวแรกของ list feat_name ก่อน เพราะตัว model OLS ของ library statsmodel ตอนทำ linear regression\n",
    "จะไม่เติม constant ให้ เราต้องมาเติมเอง manually ด้วย sm.add_constant() ตามใน function ด้านล่าง\n",
    "ดังนั้นถ้าจะ fit linear regression โดยให้มีค่า constant ด้วย ก็ควรจะ add ชื่อมันมาเก็บไว้ด้วย\n",
    "'''\n",
    "feat_name = ['constant']\n",
    "feat_name += list(data.feature_names)"
   ]
  },
  {
   "cell_type": "markdown",
   "metadata": {
    "colab_type": "text",
    "id": "W4EYoslFCvmH"
   },
   "source": [
    "สร้าง funciton สำหรับทำ backward elimination ver1: ตัดตัวแปรจากค่า p-value อย่างเดียวจนกว่าทุกตัวแปรมีค่า p-value ต่ำกว่า significance level ที่ตั้งไว้"
   ]
  },
  {
   "cell_type": "code",
   "execution_count": 3,
   "metadata": {
    "colab": {},
    "colab_type": "code",
    "id": "-zWVPImxJbgv"
   },
   "outputs": [],
   "source": [
    "def backward_elim(X,y,feat_name, sl):\n",
    "    \n",
    "    mod_feat_name = feat_name.copy()\n",
    "    numVars = X.shape[1]\n",
    "    \n",
    "    # เติม column ที่มีค่าเป็น 1 ทั้งหมด ไว้ข้างหน้า (สำหรับเป็นจุดตัดแกน y ใน สมการ linear)\n",
    "    X = sm.add_constant(X)\n",
    "    \n",
    "    for i in range(numVars):\n",
    "      \n",
    "        regressor_OLS = sm.OLS(y, X).fit()\n",
    "        p_max = np.max(regressor_OLS.pvalues)\n",
    "        \n",
    "        if p_max > sl:\n",
    "          X = np.delete(X, np.argmax(regressor_OLS.pvalues), 1)\n",
    "          del mod_feat_name[np.argmax(regressor_OLS.pvalues)]\n",
    "        else:\n",
    "          break\n",
    "          \n",
    "    print(regressor_OLS.summary())\n",
    "    return X, mod_feat_name"
   ]
  },
  {
   "cell_type": "code",
   "execution_count": 4,
   "metadata": {
    "colab": {
     "base_uri": "https://localhost:8080/",
     "height": 646
    },
    "colab_type": "code",
    "id": "8MQ-pUGbc3IK",
    "outputId": "9a115642-26df-44ee-bd73-4ef892e12987"
   },
   "outputs": [
    {
     "name": "stdout",
     "output_type": "stream",
     "text": [
      "                            OLS Regression Results                            \n",
      "==============================================================================\n",
      "Dep. Variable:                      y   R-squared:                       0.741\n",
      "Model:                            OLS   Adj. R-squared:                  0.735\n",
      "Method:                 Least Squares   F-statistic:                     128.2\n",
      "Date:                Fri, 19 Apr 2019   Prob (F-statistic):          5.54e-137\n",
      "Time:                        11:48:18   Log-Likelihood:                -1498.9\n",
      "No. Observations:                 506   AIC:                             3022.\n",
      "Df Residuals:                     494   BIC:                             3072.\n",
      "Df Model:                          11                                         \n",
      "Covariance Type:            nonrobust                                         \n",
      "==============================================================================\n",
      "                 coef    std err          t      P>|t|      [0.025      0.975]\n",
      "------------------------------------------------------------------------------\n",
      "const         36.3411      5.067      7.171      0.000      26.385      46.298\n",
      "x1            -0.1084      0.033     -3.307      0.001      -0.173      -0.044\n",
      "x2             0.0458      0.014      3.390      0.001       0.019       0.072\n",
      "x3             2.7187      0.854      3.183      0.002       1.040       4.397\n",
      "x4           -17.3760      3.535     -4.915      0.000     -24.322     -10.430\n",
      "x5             3.8016      0.406      9.356      0.000       3.003       4.600\n",
      "x6            -1.4927      0.186     -8.037      0.000      -1.858      -1.128\n",
      "x7             0.2996      0.063      4.726      0.000       0.175       0.424\n",
      "x8            -0.0118      0.003     -3.493      0.001      -0.018      -0.005\n",
      "x9            -0.9465      0.129     -7.334      0.000      -1.200      -0.693\n",
      "x10            0.0093      0.003      3.475      0.001       0.004       0.015\n",
      "x11           -0.5226      0.047    -11.019      0.000      -0.616      -0.429\n",
      "==============================================================================\n",
      "Omnibus:                      178.430   Durbin-Watson:                   1.078\n",
      "Prob(Omnibus):                  0.000   Jarque-Bera (JB):              787.785\n",
      "Skew:                           1.523   Prob(JB):                    8.60e-172\n",
      "Kurtosis:                       8.300   Cond. No.                     1.47e+04\n",
      "==============================================================================\n",
      "\n",
      "Warnings:\n",
      "[1] Standard Errors assume that the covariance matrix of the errors is correctly specified.\n",
      "[2] The condition number is large, 1.47e+04. This might indicate that there are\n",
      "strong multicollinearity or other numerical problems.\n"
     ]
    }
   ],
   "source": [
    "X_bwe,mod_feat_name = backward_elim(X,y,feat_name,0.05)"
   ]
  },
  {
   "cell_type": "code",
   "execution_count": 5,
   "metadata": {
    "colab": {
     "base_uri": "https://localhost:8080/",
     "height": 221
    },
    "colab_type": "code",
    "id": "4OmzAQvbsk1C",
    "outputId": "a70291e4-104e-454a-e583-ca47b5320ea1"
   },
   "outputs": [
    {
     "data": {
      "text/plain": [
       "['constant',\n",
       " 'CRIM',\n",
       " 'ZN',\n",
       " 'CHAS',\n",
       " 'NOX',\n",
       " 'RM',\n",
       " 'DIS',\n",
       " 'RAD',\n",
       " 'TAX',\n",
       " 'PTRATIO',\n",
       " 'B',\n",
       " 'LSTAT']"
      ]
     },
     "execution_count": 5,
     "metadata": {},
     "output_type": "execute_result"
    }
   ],
   "source": [
    "mod_feat_name"
   ]
  },
  {
   "cell_type": "markdown",
   "metadata": {
    "colab_type": "text",
    "id": "otQJ37EpDP99"
   },
   "source": [
    "สร้าง funciton สำหรับทำ backward elimination ver2: ตัดตัวแปรจากค่า p-value  และเช็คว่า adjust R sqaured ไม่ลดลง"
   ]
  },
  {
   "cell_type": "code",
   "execution_count": 6,
   "metadata": {
    "colab": {},
    "colab_type": "code",
    "id": "7z6ssUrXLyyb"
   },
   "outputs": [],
   "source": [
    "def backward_elim2(X,y,feat_name, sl):\n",
    "  \n",
    "    mod_feat_name = feat_name.copy()\n",
    "    numVars = X.shape[1]\n",
    "    \n",
    "    # เติม column ที่มีค่าเป็น 1 ทั้งหมด ไว้ข้างหน้า (สำหรับเป็นจุดตัดแกน y ใน สมการ linear)\n",
    "    X = sm.add_constant(X)\n",
    "    \n",
    "    for i in range(numVars):\n",
    "      \n",
    "        regressor_OLS = sm.OLS(y, X).fit()\n",
    "        p_max = np.max(regressor_OLS.pvalues)\n",
    "        adjR_before = regressor_OLS.rsquared_adj\n",
    "        \n",
    "        if p_max > sl:\n",
    "            \n",
    "            idx_pmax = np.argmax(regressor_OLS.pvalues)\n",
    "            temp = X[:,idx_pmax]\n",
    "            X = np.delete(X, idx_pmax, 1)\n",
    "            tmp_regressor = sm.OLS(y, X).fit()\n",
    "            del_feat_name = mod_feat_name[idx_pmax]\n",
    "            mod_feat_name.remove(del_feat_name)\n",
    "            adjR_after = tmp_regressor.rsquared_adj\n",
    "            \n",
    "            # incase of rollback\n",
    "            if (adjR_before >= adjR_after):\n",
    "                X = np.concatenate((X,temp),axis=1)\n",
    "                mod_feat_name.append(del_feat_name)\n",
    "                print (regressor_OLS.summary())\n",
    "                return X, mod_feat_name\n",
    "            else:\n",
    "                continue\n",
    "                        \n",
    "        else:\n",
    "          break\n",
    "          \n",
    "    print(regressor_OLS.summary())\n",
    "    return X,mod_feat_name"
   ]
  },
  {
   "cell_type": "code",
   "execution_count": 7,
   "metadata": {
    "colab": {
     "base_uri": "https://localhost:8080/",
     "height": 646
    },
    "colab_type": "code",
    "id": "0YHM5nf1v97p",
    "outputId": "147e99fd-4b1c-4967-c0aa-f21a94e1e6df"
   },
   "outputs": [
    {
     "name": "stdout",
     "output_type": "stream",
     "text": [
      "                            OLS Regression Results                            \n",
      "==============================================================================\n",
      "Dep. Variable:                      y   R-squared:                       0.741\n",
      "Model:                            OLS   Adj. R-squared:                  0.735\n",
      "Method:                 Least Squares   F-statistic:                     128.2\n",
      "Date:                Fri, 19 Apr 2019   Prob (F-statistic):          5.54e-137\n",
      "Time:                        11:48:21   Log-Likelihood:                -1498.9\n",
      "No. Observations:                 506   AIC:                             3022.\n",
      "Df Residuals:                     494   BIC:                             3072.\n",
      "Df Model:                          11                                         \n",
      "Covariance Type:            nonrobust                                         \n",
      "==============================================================================\n",
      "                 coef    std err          t      P>|t|      [0.025      0.975]\n",
      "------------------------------------------------------------------------------\n",
      "const         36.3411      5.067      7.171      0.000      26.385      46.298\n",
      "x1            -0.1084      0.033     -3.307      0.001      -0.173      -0.044\n",
      "x2             0.0458      0.014      3.390      0.001       0.019       0.072\n",
      "x3             2.7187      0.854      3.183      0.002       1.040       4.397\n",
      "x4           -17.3760      3.535     -4.915      0.000     -24.322     -10.430\n",
      "x5             3.8016      0.406      9.356      0.000       3.003       4.600\n",
      "x6            -1.4927      0.186     -8.037      0.000      -1.858      -1.128\n",
      "x7             0.2996      0.063      4.726      0.000       0.175       0.424\n",
      "x8            -0.0118      0.003     -3.493      0.001      -0.018      -0.005\n",
      "x9            -0.9465      0.129     -7.334      0.000      -1.200      -0.693\n",
      "x10            0.0093      0.003      3.475      0.001       0.004       0.015\n",
      "x11           -0.5226      0.047    -11.019      0.000      -0.616      -0.429\n",
      "==============================================================================\n",
      "Omnibus:                      178.430   Durbin-Watson:                   1.078\n",
      "Prob(Omnibus):                  0.000   Jarque-Bera (JB):              787.785\n",
      "Skew:                           1.523   Prob(JB):                    8.60e-172\n",
      "Kurtosis:                       8.300   Cond. No.                     1.47e+04\n",
      "==============================================================================\n",
      "\n",
      "Warnings:\n",
      "[1] Standard Errors assume that the covariance matrix of the errors is correctly specified.\n",
      "[2] The condition number is large, 1.47e+04. This might indicate that there are\n",
      "strong multicollinearity or other numerical problems.\n"
     ]
    }
   ],
   "source": [
    "X_bwe,mod_feat_name = backward_elim2(X,y,feat_name,0.05)"
   ]
  },
  {
   "cell_type": "code",
   "execution_count": 8,
   "metadata": {
    "colab": {
     "base_uri": "https://localhost:8080/",
     "height": 221
    },
    "colab_type": "code",
    "id": "Ozts7oY0B8Z_",
    "outputId": "a07411ca-a04f-4a8d-ec3d-41ea166edab5"
   },
   "outputs": [
    {
     "data": {
      "text/plain": [
       "['constant',\n",
       " 'CRIM',\n",
       " 'ZN',\n",
       " 'CHAS',\n",
       " 'NOX',\n",
       " 'RM',\n",
       " 'DIS',\n",
       " 'RAD',\n",
       " 'TAX',\n",
       " 'PTRATIO',\n",
       " 'B',\n",
       " 'LSTAT']"
      ]
     },
     "execution_count": 8,
     "metadata": {},
     "output_type": "execute_result"
    }
   ],
   "source": [
    "mod_feat_name"
   ]
  }
 ],
 "metadata": {
  "colab": {
   "collapsed_sections": [],
   "name": "2) Simple auto backward elimination for linear regression.ipynb",
   "provenance": [],
   "version": "0.3.2"
  },
  "kernelspec": {
   "display_name": "Python 3",
   "language": "python",
   "name": "python3"
  },
  "language_info": {
   "codemirror_mode": {
    "name": "ipython",
    "version": 3
   },
   "file_extension": ".py",
   "mimetype": "text/x-python",
   "name": "python",
   "nbconvert_exporter": "python",
   "pygments_lexer": "ipython3",
   "version": "3.5.2"
  }
 },
 "nbformat": 4,
 "nbformat_minor": 1
}
