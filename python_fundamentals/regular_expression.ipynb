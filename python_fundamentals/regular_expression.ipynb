{
 "cells": [
  {
   "cell_type": "markdown",
   "metadata": {
    "colab_type": "text",
    "id": "qiYNkGoq5-xs"
   },
   "source": [
    "![alt text](https://images.unsplash.com/photo-1533227268428-f9ed0900fb3b?ixlib=rb-1.2.1&ixid=eyJhcHBfaWQiOjEyMDd9&auto=format&fit=crop&w=1158&q=80)"
   ]
  },
  {
   "cell_type": "markdown",
   "metadata": {
    "colab_type": "text",
    "id": "xyfTZLxc6OT-"
   },
   "source": [
    "# สอนใช้ Regular Expression"
   ]
  },
  {
   "cell_type": "markdown",
   "metadata": {
    "colab_type": "text",
    "id": "ohKcVNh40-6G"
   },
   "source": [
    "re เป็น built-in library  ของ Python  อยู่แล้ว สามารถเรียกใช้ได้เลย"
   ]
  },
  {
   "cell_type": "code",
   "execution_count": 0,
   "metadata": {
    "colab": {},
    "colab_type": "code",
    "id": "p_X0jjW-8PxK"
   },
   "outputs": [],
   "source": [
    "import re"
   ]
  },
  {
   "cell_type": "markdown",
   "metadata": {
    "colab_type": "text",
    "id": "uGYznCmd8bIu"
   },
   "source": [
    "# Method ที่ใช้บ่อยใน RE\n",
    "split: ใช้สำหรับ split string<br>\n",
    "findall: ใช้หา pattern ทั้งหมดที่เจอใน string<br>\n",
    "search: ใช้หา pattern แรกที่เจอใน string โดยตำแหน่งที่เจอ pattern จะอยู่ตำแหน่งไหนใน string ก็ได้<br>\n",
    "match: ใช้หา pattern แรกที่เจอใน string โดย pattern ที่เจอจะต้องเริ่มจาก index 0 (หรือตำแหน่งแรก) ของ string เท่านั้น<br>\n",
    "sub: ใช้แทนที่ pattern ด้วย string ที่ต้องการ ใช้บ่อยในการ clean text<br>\n",
    "<br>\n",
    "โดยส่วนใหญ่ input ของ method ต่างๆ ใน re จะอยู่ในลักษณะ pattern ตามด้วย string"
   ]
  },
  {
   "cell_type": "code",
   "execution_count": 0,
   "metadata": {
    "colab": {
     "base_uri": "https://localhost:8080/",
     "height": 34
    },
    "colab_type": "code",
    "executionInfo": {
     "elapsed": 957,
     "status": "ok",
     "timestamp": 1548840904077,
     "user": {
      "displayName": "Witchapong Daroontham",
      "photoUrl": "",
      "userId": "15288324432596741279"
     },
     "user_tz": -420
    },
    "id": "e8HVGMZS8h5v",
    "outputId": "f2d164a7-2463-40d0-a076-65dba9c6271a"
   },
   "outputs": [
    {
     "data": {
      "text/plain": [
       "<_sre.SRE_Match object; span=(20, 27), match='pattern'>"
      ]
     },
     "execution_count": 18,
     "metadata": {
      "tags": []
     },
     "output_type": "execute_result"
    }
   ],
   "source": [
    "re.search('pattern','String that contain patterns')"
   ]
  },
  {
   "cell_type": "markdown",
   "metadata": {
    "colab_type": "text",
    "id": "Rp9F9szX-vRK"
   },
   "source": [
    "# Character ทั่วไป VS Character พิเศษ<br>\n",
    "Character ทั่วไป ใน re หมายถึง อักขระที่สามารถ match กับอักขระของตัวเองเองได้โดยตรง ไม่ได้มีความหมายพิเศษอะไร เช่น 'a', 'A', 'x', 'X ', '1', '3'<br>\n",
    "Character พิเศษ ใน re หมายถึง อักขระที่ไม่สามารถ match กับอักขระของตัวเองเองได้โดยตรง ไม่ได้มีความหมายพิเศษอะไร เช่น '.', '\\w', '\\W', '\\d', '\\s', '[a-z]', '+', '*'<br>\n",
    "\n",
    "\n",
    "\n"
   ]
  },
  {
   "cell_type": "markdown",
   "metadata": {
    "colab_type": "text",
    "id": "iXwu-Hjw4A9J"
   },
   "source": [
    "**Character ทั่วไป & Method ต่างๆ**"
   ]
  },
  {
   "cell_type": "markdown",
   "metadata": {
    "colab_type": "text",
    "id": "7fIAek2mCLpf"
   },
   "source": [
    "**split**"
   ]
  },
  {
   "cell_type": "code",
   "execution_count": 0,
   "metadata": {
    "colab": {
     "base_uri": "https://localhost:8080/",
     "height": 34
    },
    "colab_type": "code",
    "executionInfo": {
     "elapsed": 921,
     "status": "ok",
     "timestamp": 1548838081882,
     "user": {
      "displayName": "Witchapong Daroontham",
      "photoUrl": "",
      "userId": "15288324432596741279"
     },
     "user_tz": -420
    },
    "id": "I-mNvhXk8FDd",
    "outputId": "6578e90f-ab47-4a85-95d4-925f02164982"
   },
   "outputs": [
    {
     "data": {
      "text/plain": [
       "['String', 'that', 'I', 'want', 'to', 'match']"
      ]
     },
     "execution_count": 8,
     "metadata": {
      "tags": []
     },
     "output_type": "execute_result"
    }
   ],
   "source": [
    "re.split(' ','String that I want to split')"
   ]
  },
  {
   "cell_type": "markdown",
   "metadata": {
    "colab_type": "text",
    "id": "78Yw3AYrCSxV"
   },
   "source": [
    "**findall**"
   ]
  },
  {
   "cell_type": "code",
   "execution_count": 0,
   "metadata": {
    "colab": {
     "base_uri": "https://localhost:8080/",
     "height": 34
    },
    "colab_type": "code",
    "executionInfo": {
     "elapsed": 850,
     "status": "ok",
     "timestamp": 1548840465813,
     "user": {
      "displayName": "Witchapong Daroontham",
      "photoUrl": "",
      "userId": "15288324432596741279"
     },
     "user_tz": -420
    },
    "id": "rCF8SM3hCZ5x",
    "outputId": "b2ece6e6-f1f9-4697-f863-94717b0f5b88"
   },
   "outputs": [
    {
     "data": {
      "text/plain": [
       "['pattern', 'pattern', 'pattern']"
      ]
     },
     "execution_count": 15,
     "metadata": {
      "tags": []
     },
     "output_type": "execute_result"
    }
   ],
   "source": [
    "re.findall('pattern','Lookinging for all patterns in this sentence. This is the 2nd pattern and this is the 3rd pattern.')"
   ]
  },
  {
   "cell_type": "markdown",
   "metadata": {
    "colab_type": "text",
    "id": "eJbd84tDCO7T"
   },
   "source": [
    "**search & match**"
   ]
  },
  {
   "cell_type": "markdown",
   "metadata": {
    "colab_type": "text",
    "id": "AgnZ6EfO1ybV"
   },
   "source": [
    "เนื่องจาก match จะ return เฉพาะ string ที่ตรงกับ pattern ตั้งแต่ต้นของ string เท่านั้น ตัวอย่างด้านจึงไม่ return ค่าอะไร"
   ]
  },
  {
   "cell_type": "code",
   "execution_count": 0,
   "metadata": {
    "colab": {},
    "colab_type": "code",
    "id": "CbKntOdO4RE9"
   },
   "outputs": [],
   "source": [
    "re.match('cd', 'abcde')"
   ]
  },
  {
   "cell_type": "markdown",
   "metadata": {
    "colab_type": "text",
    "id": "EmAd998B10Uz"
   },
   "source": [
    "search  จะ return object ออกมา หากสามารถ pattern ใน string ได้ ไม่ว่า pattern จะอยู่ตรงไหนของ string ก็ตาม หากเราต้องการ string ที่ตรงกับ pattern นั้น สามารถใช้ method group จาก object ที่ return ออกมาอีกทีนึงได้"
   ]
  },
  {
   "cell_type": "code",
   "execution_count": 0,
   "metadata": {
    "colab": {
     "base_uri": "https://localhost:8080/",
     "height": 34
    },
    "colab_type": "code",
    "executionInfo": {
     "elapsed": 4727,
     "status": "ok",
     "timestamp": 1548954308537,
     "user": {
      "displayName": "Witchapong Daroontham",
      "photoUrl": "",
      "userId": "15288324432596741279"
     },
     "user_tz": -420
    },
    "id": "qFfXdw3Y4rBT",
    "outputId": "722f1c94-ad95-4a00-db40-968fb99acc76"
   },
   "outputs": [
    {
     "data": {
      "text/plain": [
       "<_sre.SRE_Match object; span=(2, 4), match='cd'>"
      ]
     },
     "execution_count": 44,
     "metadata": {
      "tags": []
     },
     "output_type": "execute_result"
    }
   ],
   "source": [
    "re.search('cd', 'abcde')"
   ]
  },
  {
   "cell_type": "code",
   "execution_count": 0,
   "metadata": {
    "colab": {
     "base_uri": "https://localhost:8080/",
     "height": 34
    },
    "colab_type": "code",
    "executionInfo": {
     "elapsed": 4495,
     "status": "ok",
     "timestamp": 1548954308538,
     "user": {
      "displayName": "Witchapong Daroontham",
      "photoUrl": "",
      "userId": "15288324432596741279"
     },
     "user_tz": -420
    },
    "id": "En3KBrZr2oCC",
    "outputId": "32c6402d-0cdd-4884-d8e5-c18202395a94"
   },
   "outputs": [
    {
     "data": {
      "text/plain": [
       "'cd'"
      ]
     },
     "execution_count": 45,
     "metadata": {
      "tags": []
     },
     "output_type": "execute_result"
    }
   ],
   "source": [
    "re.search('cd', 'abcde').group()"
   ]
  },
  {
   "cell_type": "markdown",
   "metadata": {
    "colab_type": "text",
    "id": "UR21CP3u11Pf"
   },
   "source": [
    "object ที่ return จาก method search ยังสามารถเอามาใช้เป็นค่า True  (หาเจอ), False (หาไม่เจอ) ได้อีกด้วย"
   ]
  },
  {
   "cell_type": "code",
   "execution_count": 0,
   "metadata": {
    "colab": {
     "base_uri": "https://localhost:8080/",
     "height": 34
    },
    "colab_type": "code",
    "executionInfo": {
     "elapsed": 898,
     "status": "ok",
     "timestamp": 1548840537375,
     "user": {
      "displayName": "Witchapong Daroontham",
      "photoUrl": "",
      "userId": "15288324432596741279"
     },
     "user_tz": -420
    },
    "id": "Bwuhn6jkFtit",
    "outputId": "e8a782d4-fa77-455d-afde-5194ab571672"
   },
   "outputs": [
    {
     "name": "stdout",
     "output_type": "stream",
     "text": [
      "HEY\n"
     ]
    }
   ],
   "source": [
    "if re.search('cd', 'abcde'):\n",
    "  print('HEY')"
   ]
  },
  {
   "cell_type": "markdown",
   "metadata": {
    "colab_type": "text",
    "id": "FXvRzCW7Ca-Z"
   },
   "source": [
    "**sub**<br>\n",
    "Input ของ method sub จะแตกต่างจาก method อื่นตรงที่เราต้องระบุด้วยว่าเราจะแทนที่ pattern ที่เจอใน string ด้วยอะไร ในกรณีที่เราต้องการ clean text ก็มักจะ sub ด้วย string ว่าง ''"
   ]
  },
  {
   "cell_type": "code",
   "execution_count": 0,
   "metadata": {
    "colab": {
     "base_uri": "https://localhost:8080/",
     "height": 34
    },
    "colab_type": "code",
    "executionInfo": {
     "elapsed": 2136,
     "status": "ok",
     "timestamp": 1548955193832,
     "user": {
      "displayName": "Witchapong Daroontham",
      "photoUrl": "",
      "userId": "15288324432596741279"
     },
     "user_tz": -420
    },
    "id": "2ED5-CKwCcFr",
    "outputId": "156812ab-8208-4efd-ad1e-da06ba88fd37"
   },
   "outputs": [
    {
     "data": {
      "text/plain": [
       "'hashtag1 hashtag2 hashtag3'"
      ]
     },
     "execution_count": 47,
     "metadata": {
      "tags": []
     },
     "output_type": "execute_result"
    }
   ],
   "source": [
    "re.sub('#','','#hashtag1 #hashtag2 #hashtag3')"
   ]
  },
  {
   "cell_type": "markdown",
   "metadata": {
    "colab_type": "text",
    "id": "958xMWX084Yn"
   },
   "source": [
    "# Character พิเศษ ใน RE ที่ใช้บ่อย<br>\n",
    "<table style=\"width:100%\">\n",
    "  <tr>\n",
    "    <th>Special character</th>\n",
    "    <th>Match อะไร</th> \n",
    "  </tr>\n",
    "  <tr>\n",
    "    <td>.</td>\n",
    "    <td>อักขระอะไรก็ได้ยกเว้น '\\n' (ขึ้นบรรทัดใหม่)</td> \n",
    "  </tr>\n",
    "  <tr>\n",
    "    <td>\\w</td>\n",
    "    <td>ตัวหนังสือ, ตัวเลข, และ underscore</td> \n",
    "  </tr>\n",
    "   <tr>\n",
    "    <td>\\d</td>\n",
    "    <td>ตัวเลข</td> \n",
    "  </tr>\n",
    "  <tr>\n",
    "    <td>\\s</td>\n",
    "    <td>' ' (ช่องว่าง)</td> \n",
    "  </tr>\n",
    "  <tr>\n",
    "    <td>+</td>\n",
    "    <td>อักขระที่ตรงกับ อักขระทางด้านซ้ายของเครื่องหมาย (ต้องเจออย่างน้อย 1 ตัว)</td> \n",
    "  </tr>\n",
    "  <tr>\n",
    "    <td>ดอกจัน</td>\n",
    "    <td>อักขระที่ตรงกับ อักขระทางด้านซ้ายของเครื่องหมาย (ไม่เจอ หรือ เจอกี่ตัวก็ได้)</td> \n",
    "  </tr>\n",
    "  <tr>\n",
    "    <td>?</td>\n",
    "    <td>อักขระที่ตรงกับ อักขระทางด้านซ้ายของเครื่องหมาย (ไม่เจอ หรือ เจอ 1 ตัว เท่านั้น)</td> \n",
    "  </tr>\n",
    "</table>\n",
    "<br>\n",
    "*String ในส่วนของ pattern ที่มี character พิเศษ จะใช้ตัว r นำหน้าเสมอ เพื่อระบุประเภทของ string ว่าเป็น raw string<br>\n",
    "จะแสดงตัวอย่างการใช้ character พิเศษในการหา pattern ที่ต้องการ โดยจะใช้ method sub มาแสดงให้เห็นว่าเราเจอ pattern แต่ละแบบที่ไหนใน sting บ้าง ก็จะถูกแทนด้วย [r]"
   ]
  },
  {
   "cell_type": "markdown",
   "metadata": {
    "colab_type": "text",
    "id": "NeEB6yPU7O2r"
   },
   "source": [
    "ตัวอย่างแรกจะเห็นว่าทุกอักขระใน string ยกเว้น \\n หรือ สัญญลักษณ์แทนขึ้นบรรทัดใหม่จะถูกแทนที่ด้วย  [r] ทั้งหมด เป็นตัวๆไป"
   ]
  },
  {
   "cell_type": "code",
   "execution_count": 0,
   "metadata": {
    "colab": {
     "base_uri": "https://localhost:8080/",
     "height": 34
    },
    "colab_type": "code",
    "executionInfo": {
     "elapsed": 933,
     "status": "ok",
     "timestamp": 1548955458136,
     "user": {
      "displayName": "Witchapong Daroontham",
      "photoUrl": "",
      "userId": "15288324432596741279"
     },
     "user_tz": -420
    },
    "id": "L5PHII5m8oGn",
    "outputId": "e5f6823e-d29d-430a-8cb9-5335838249bd"
   },
   "outputs": [
    {
     "data": {
      "text/plain": [
       "'[r][r][r][r][r][r][r][r][r][r][r][r][r][r][r][r][r][r][r]\\n[r][r][r][r][r][r][r][r][r][r][r][r][r][r][r][r][r][r][r]'"
      ]
     },
     "execution_count": 48,
     "metadata": {
      "tags": []
     },
     "output_type": "execute_result"
    }
   ],
   "source": [
    "re.sub(r'.','[r]','This is sentence 1.\\nThis is sentence 2.')"
   ]
  },
  {
   "cell_type": "markdown",
   "metadata": {
    "colab_type": "text",
    "id": "s_WPiOO885C9"
   },
   "source": [
    "ทีนี้ถ้าเราเติมเครื่องหมายพิเศษ +, * เข้าไปหลัง . จะเห็นว่า string ไม่ได้ถูกแทนที่เป็นตัวๆ แล้ว เพราะ re จะวิ่งจับ character ใน string ไปเรื่อยๆ จนกระทั้งเจอ \\n  ก็จะหยุดนั้นเอง"
   ]
  },
  {
   "cell_type": "code",
   "execution_count": 0,
   "metadata": {
    "colab": {
     "base_uri": "https://localhost:8080/",
     "height": 34
    },
    "colab_type": "code",
    "executionInfo": {
     "elapsed": 1058,
     "status": "ok",
     "timestamp": 1548955701118,
     "user": {
      "displayName": "Witchapong Daroontham",
      "photoUrl": "",
      "userId": "15288324432596741279"
     },
     "user_tz": -420
    },
    "id": "vYWi5x8GKASn",
    "outputId": "07bd721a-0825-44ce-cb21-40627eff50f8"
   },
   "outputs": [
    {
     "data": {
      "text/plain": [
       "'<r>\\n<r>'"
      ]
     },
     "execution_count": 50,
     "metadata": {
      "tags": []
     },
     "output_type": "execute_result"
    }
   ],
   "source": [
    "re.sub(r'.*','<r>','This is sentence 1.\\nThis is sentence 2.')"
   ]
  },
  {
   "cell_type": "code",
   "execution_count": 0,
   "metadata": {
    "colab": {
     "base_uri": "https://localhost:8080/",
     "height": 34
    },
    "colab_type": "code",
    "executionInfo": {
     "elapsed": 766,
     "status": "ok",
     "timestamp": 1548846818227,
     "user": {
      "displayName": "Witchapong Daroontham",
      "photoUrl": "",
      "userId": "15288324432596741279"
     },
     "user_tz": -420
    },
    "id": "tzbRXhuSKp3V",
    "outputId": "9b230c79-c585-4772-a293-ecfebe918b3e"
   },
   "outputs": [
    {
     "data": {
      "text/plain": [
       "'<r>\\n<r>'"
      ]
     },
     "execution_count": 80,
     "metadata": {
      "tags": []
     },
     "output_type": "execute_result"
    }
   ],
   "source": [
    "re.sub(r'.+','<r>','This is sentence 1.\\nThis is sentence 2.')"
   ]
  },
  {
   "cell_type": "markdown",
   "metadata": {
    "colab_type": "text",
    "id": "Wifl5BtS-Edj"
   },
   "source": [
    "อย่าลืมว่า +, * มีความแตกต่างกัน คือ + ต้องเจอ pattern ตรงกับอักขระทางด้านซ้ายของเครื่องหมาย (ในที่นี้ คือ \".\")  อย่างน้อย 1 ตัว แต่ * ไม่ต้องเจอก็ได้"
   ]
  },
  {
   "cell_type": "code",
   "execution_count": 0,
   "metadata": {
    "colab": {
     "base_uri": "https://localhost:8080/",
     "height": 34
    },
    "colab_type": "code",
    "executionInfo": {
     "elapsed": 866,
     "status": "ok",
     "timestamp": 1548846827785,
     "user": {
      "displayName": "Witchapong Daroontham",
      "photoUrl": "",
      "userId": "15288324432596741279"
     },
     "user_tz": -420
    },
    "id": "Z5bBs81aLCbX",
    "outputId": "950848d2-2b8a-409b-a864-8879e8d5767c"
   },
   "outputs": [
    {
     "data": {
      "text/plain": [
       "'<r>\\n<r>\\n<r>'"
      ]
     },
     "execution_count": 81,
     "metadata": {
      "tags": []
     },
     "output_type": "execute_result"
    }
   ],
   "source": [
    "re.sub(r'.*','<r>','\\nThis is sentence 1.\\nThis is sentence 2.')"
   ]
  },
  {
   "cell_type": "code",
   "execution_count": 0,
   "metadata": {
    "colab": {
     "base_uri": "https://localhost:8080/",
     "height": 34
    },
    "colab_type": "code",
    "executionInfo": {
     "elapsed": 827,
     "status": "ok",
     "timestamp": 1548846851887,
     "user": {
      "displayName": "Witchapong Daroontham",
      "photoUrl": "",
      "userId": "15288324432596741279"
     },
     "user_tz": -420
    },
    "id": "P-BkLBUOLFMb",
    "outputId": "14c542fe-f5e4-4d91-a88a-d0eb1990e62b"
   },
   "outputs": [
    {
     "data": {
      "text/plain": [
       "'\\n<r>\\n<r>'"
      ]
     },
     "execution_count": 82,
     "metadata": {
      "tags": []
     },
     "output_type": "execute_result"
    }
   ],
   "source": [
    "re.sub(r'.+','<r>','\\nThis is sentence 1.\\nThis is sentence 2.')"
   ]
  },
  {
   "cell_type": "markdown",
   "metadata": {
    "colab_type": "text",
    "id": "L9O7Egss-76Z"
   },
   "source": [
    "ตัวอย่างการใช้ ? ในการหาคำที่สะกดได้สองแบบ คือ อาจจะมี หรือไม่มีอักขระใด อักขระหนึ่ง ก็ได้"
   ]
  },
  {
   "cell_type": "code",
   "execution_count": 0,
   "metadata": {
    "colab": {
     "base_uri": "https://localhost:8080/",
     "height": 34
    },
    "colab_type": "code",
    "executionInfo": {
     "elapsed": 734,
     "status": "ok",
     "timestamp": 1548847040570,
     "user": {
      "displayName": "Witchapong Daroontham",
      "photoUrl": "",
      "userId": "15288324432596741279"
     },
     "user_tz": -420
    },
    "id": "005G9p1geavU",
    "outputId": "b5c377cb-b507-4a7a-d11d-578e9a077073"
   },
   "outputs": [
    {
     "data": {
      "text/plain": [
       "<_sre.SRE_Match object; span=(0, 5), match='Color'>"
      ]
     },
     "execution_count": 87,
     "metadata": {
      "tags": []
     },
     "output_type": "execute_result"
    }
   ],
   "source": [
    "re.search(r'Colou?r', 'Color')"
   ]
  },
  {
   "cell_type": "markdown",
   "metadata": {
    "colab_type": "text",
    "id": "Wurq2Qhe_qFo"
   },
   "source": [
    "การใช้ \\w+ สามารถใช้หาคำในภาษาอังกฤษจาก string ได้ เพราะภาษาอังกฤษแบ่งคำด้วยช่องว่าง และช่องว่างไม่รวมอยู่ใน /w"
   ]
  },
  {
   "cell_type": "code",
   "execution_count": 0,
   "metadata": {
    "colab": {
     "base_uri": "https://localhost:8080/",
     "height": 34
    },
    "colab_type": "code",
    "executionInfo": {
     "elapsed": 817,
     "status": "ok",
     "timestamp": 1548846962836,
     "user": {
      "displayName": "Witchapong Daroontham",
      "photoUrl": "",
      "userId": "15288324432596741279"
     },
     "user_tz": -420
    },
    "id": "FP657BNCbVL9",
    "outputId": "6ea24bc0-471b-4f37-9e26-89ed85690242"
   },
   "outputs": [
    {
     "data": {
      "text/plain": [
       "'<r> <r> <r> <r>'"
      ]
     },
     "execution_count": 85,
     "metadata": {
      "tags": []
     },
     "output_type": "execute_result"
    }
   ],
   "source": [
    "re.sub(r'\\w+','<r>','word1 word2 word3 word4')"
   ]
  },
  {
   "cell_type": "markdown",
   "metadata": {
    "colab_type": "text",
    "id": "EIUvp46X_vNa"
   },
   "source": [
    "ใช้ \\d+ หาตัวเลข"
   ]
  },
  {
   "cell_type": "code",
   "execution_count": 0,
   "metadata": {
    "colab": {
     "base_uri": "https://localhost:8080/",
     "height": 34
    },
    "colab_type": "code",
    "executionInfo": {
     "elapsed": 739,
     "status": "ok",
     "timestamp": 1548847001358,
     "user": {
      "displayName": "Witchapong Daroontham",
      "photoUrl": "",
      "userId": "15288324432596741279"
     },
     "user_tz": -420
    },
    "id": "35vklQoTbqlP",
    "outputId": "467c27ff-dae7-4f30-e9ad-e2752a2669a1"
   },
   "outputs": [
    {
     "data": {
      "text/plain": [
       "'<r> <r> <r>'"
      ]
     },
     "execution_count": 86,
     "metadata": {
      "tags": []
     },
     "output_type": "execute_result"
    }
   ],
   "source": [
    "re.sub(r'\\d+','<r>','123 1234 12345')"
   ]
  },
  {
   "cell_type": "markdown",
   "metadata": {
    "colab_type": "text",
    "id": "GM7NduMP_8NI"
   },
   "source": [
    "ใช้ \\s+ หาช่องว่าง (จะกี่ช่องก็ได้)"
   ]
  },
  {
   "cell_type": "code",
   "execution_count": 0,
   "metadata": {
    "colab": {
     "base_uri": "https://localhost:8080/",
     "height": 34
    },
    "colab_type": "code",
    "executionInfo": {
     "elapsed": 817,
     "status": "ok",
     "timestamp": 1548847103633,
     "user": {
      "displayName": "Witchapong Daroontham",
      "photoUrl": "",
      "userId": "15288324432596741279"
     },
     "user_tz": -420
    },
    "id": "N7zhcFzIekT4",
    "outputId": "73bca33b-92a6-4490-88dc-ef7d8c11c044"
   },
   "outputs": [
    {
     "data": {
      "text/plain": [
       "'word1<r>word2<r>word3<r>word4'"
      ]
     },
     "execution_count": 89,
     "metadata": {
      "tags": []
     },
     "output_type": "execute_result"
    }
   ],
   "source": [
    "re.sub(r'\\s+','<r>','word1 word2  word3   word4')"
   ]
  },
  {
   "cell_type": "markdown",
   "metadata": {
    "colab_type": "text",
    "id": "Uk3y_qLqABb2"
   },
   "source": [
    "นอกจากนี้เรายังสามารถระบุ character หลายๆ character ใน pattern โดยใส่ไว้ใน [ ] เช่น [abc] คือ เอา a หรือ b หรือ c ก็ได้"
   ]
  },
  {
   "cell_type": "code",
   "execution_count": 0,
   "metadata": {
    "colab": {
     "base_uri": "https://localhost:8080/",
     "height": 34
    },
    "colab_type": "code",
    "executionInfo": {
     "elapsed": 711,
     "status": "ok",
     "timestamp": 1548956628054,
     "user": {
      "displayName": "Witchapong Daroontham",
      "photoUrl": "",
      "userId": "15288324432596741279"
     },
     "user_tz": -420
    },
    "id": "KvzRBxRih7ql",
    "outputId": "3577aef6-c4a9-491f-c785-26a003a527dd"
   },
   "outputs": [
    {
     "data": {
      "text/plain": [
       "'These are the symbols I wanna catch: <r>, <r>, <r>, <r>, <r>'"
      ]
     },
     "execution_count": 53,
     "metadata": {
      "tags": []
     },
     "output_type": "execute_result"
    }
   ],
   "source": [
    "# some concept about the curly bracket {}\n",
    "re.sub(r'[~&^%$]','<r>','These are the symbols I wanna catch: ~, &, ^, %, $')"
   ]
  },
  {
   "cell_type": "markdown",
   "metadata": {
    "colab_type": "text",
    "id": "ml_47M80faZm"
   },
   "source": [
    "# Useful usecases<br>\n",
    "ลองมาดูตัวอย่างที่เราน่าจะได้นำไปใช้ประโยชน์กันหน่อยดีกว่า"
   ]
  },
  {
   "cell_type": "markdown",
   "metadata": {
    "colab_type": "text",
    "id": "Mczc8thpAqrI"
   },
   "source": [
    "**หาตัวเลข เช่น เบอร์โทร จาก string**"
   ]
  },
  {
   "cell_type": "code",
   "execution_count": 0,
   "metadata": {
    "colab": {
     "base_uri": "https://localhost:8080/",
     "height": 34
    },
    "colab_type": "code",
    "executionInfo": {
     "elapsed": 929,
     "status": "ok",
     "timestamp": 1548847637574,
     "user": {
      "displayName": "Witchapong Daroontham",
      "photoUrl": "",
      "userId": "15288324432596741279"
     },
     "user_tz": -420
    },
    "id": "qh8pF4xqeyBY",
    "outputId": "94514608-f30f-4abe-f96f-a9938c36fe5a"
   },
   "outputs": [
    {
     "data": {
      "text/plain": [
       "['0899999999', '0866666666']"
      ]
     },
     "execution_count": 98,
     "metadata": {
      "tags": []
     },
     "output_type": "execute_result"
    }
   ],
   "source": [
    "# extract number from string\n",
    "sample_str = 'I want to extract the number 0899999999 and 0866666666 from this sentence.'\n",
    "re.findall(r'\\d+',sample_str)"
   ]
  },
  {
   "cell_type": "markdown",
   "metadata": {
    "colab_type": "text",
    "id": "QbA22pxqGp_z"
   },
   "source": [
    "นอกเหนือจากใช้ special character + หรือ * ในการหา pattern ที่ซ้ำแล้ว เรายังสามารถระบุจำนวนการเกิดซ้ำได้โดยระบุจำนวน character ที่ต้องการใน { } เช่น เราต้องการว่าเลขที่ได้มาเป็นเบอร์โทรจริงๆ นำหน้าด้วย 0 ตามด้วยเลขอีก 9 ตัว"
   ]
  },
  {
   "cell_type": "code",
   "execution_count": 0,
   "metadata": {
    "colab": {
     "base_uri": "https://localhost:8080/",
     "height": 34
    },
    "colab_type": "code",
    "executionInfo": {
     "elapsed": 988,
     "status": "ok",
     "timestamp": 1548958440896,
     "user": {
      "displayName": "Witchapong Daroontham",
      "photoUrl": "",
      "userId": "15288324432596741279"
     },
     "user_tz": -420
    },
    "id": "t3L5DWqSGjL4",
    "outputId": "32c3540d-c4e3-4dd8-8496-41c495dfa027"
   },
   "outputs": [
    {
     "data": {
      "text/plain": [
       "['0899999999', '0866666666']"
      ]
     },
     "execution_count": 55,
     "metadata": {
      "tags": []
     },
     "output_type": "execute_result"
    }
   ],
   "source": [
    "# extract number from string\n",
    "sample_str = 'I want to extract the number 0899999999 and 0866666666 from this sentence.'\n",
    "re.findall(r'0\\d{9}',sample_str)"
   ]
  },
  {
   "cell_type": "markdown",
   "metadata": {
    "colab_type": "text",
    "id": "_umR-dPZArpw"
   },
   "source": [
    "ถ้าเราอยากจะ**ดึงตัวเลข **แต่เลขนั้นถูกแบ่งด้วยเครื่องหมาย , เราก็สามารถลบเครื่องหมายออกก่อน แล้วค่อยหาตัวเลขตามปกติด้วย \\d+"
   ]
  },
  {
   "cell_type": "code",
   "execution_count": 0,
   "metadata": {
    "colab": {
     "base_uri": "https://localhost:8080/",
     "height": 34
    },
    "colab_type": "code",
    "executionInfo": {
     "elapsed": 822,
     "status": "ok",
     "timestamp": 1548847835923,
     "user": {
      "displayName": "Witchapong Daroontham",
      "photoUrl": "",
      "userId": "15288324432596741279"
     },
     "user_tz": -420
    },
    "id": "1o639xskf409",
    "outputId": "1ced6782-7f9c-47c7-d74e-f49a396845c3"
   },
   "outputs": [
    {
     "data": {
      "text/plain": [
       "['1000000', '123456789']"
      ]
     },
     "execution_count": 106,
     "metadata": {
      "tags": []
     },
     "output_type": "execute_result"
    }
   ],
   "source": [
    "# extract number with divider from string\n",
    "sample_str = 'I want to extract the number 1,000,000 and 123,456,789 from this sentence.'\n",
    "re.findall(r'\\d+',re.sub(r',','',sample_str))"
   ]
  },
  {
   "cell_type": "markdown",
   "metadata": {
    "colab_type": "text",
    "id": "S3Pp2jy2AswM"
   },
   "source": [
    "**ตัวอย่างการหา emai**l... เนื่องจาก . เป็น character พิเศษ ถ้าเราต้องการจะหา '.' จาก string จริงๆ ให้ใส่ / นำหน้า '.' ใน pattern เพื่อเป็นการบอกว่า ไ่ม่ต้องมอง '.' เป็น character พิเศษ และให้มองหา '.'  ตรงๆ และอย่าลืมว่า [ \\w\\.-]+ หมายถึง  character อะไรก็ได้ที่เป็นตัวเลข ตัวหนังสือ '.' หรือ '-' กี่ตัวก็ได้ แล้วจึงตามด้วยเครื่องหมาย @ "
   ]
  },
  {
   "cell_type": "code",
   "execution_count": 0,
   "metadata": {
    "colab": {
     "base_uri": "https://localhost:8080/",
     "height": 34
    },
    "colab_type": "code",
    "executionInfo": {
     "elapsed": 851,
     "status": "ok",
     "timestamp": 1548848055489,
     "user": {
      "displayName": "Witchapong Daroontham",
      "photoUrl": "",
      "userId": "15288324432596741279"
     },
     "user_tz": -420
    },
    "id": "_DJ_-Kfqfoqm",
    "outputId": "7d1d503f-aced-4692-fd3c-f2095e93c118"
   },
   "outputs": [
    {
     "data": {
      "text/plain": [
       "['kkk@kk.com', 'xxx@xx.com']"
      ]
     },
     "execution_count": 111,
     "metadata": {
      "tags": []
     },
     "output_type": "execute_result"
    }
   ],
   "source": [
    "# extract email from string\n",
    "sample_str = 'These are email address I want to extract: kkk@kk.com xxx@xx.com'\n",
    "re.findall(r'[\\w\\.-]+@[\\w\\.-]+',sample_str)"
   ]
  },
  {
   "cell_type": "markdown",
   "metadata": {
    "colab_type": "text",
    "id": "23sNjifeAta9"
   },
   "source": [
    "**กำจัด html tag**... โดยปกติถ้าเราใช้ *, + ในการหา pattern re จะไล่หา pattern ที่ยาวที่สุดเท่าที่จะหาได้ (greedy match) code ด้านล่างจึง return ' '"
   ]
  },
  {
   "cell_type": "code",
   "execution_count": 0,
   "metadata": {
    "colab": {
     "base_uri": "https://localhost:8080/",
     "height": 34
    },
    "colab_type": "code",
    "executionInfo": {
     "elapsed": 1088,
     "status": "ok",
     "timestamp": 1548952306365,
     "user": {
      "displayName": "Witchapong Daroontham",
      "photoUrl": "",
      "userId": "15288324432596741279"
     },
     "user_tz": -420
    },
    "id": "wY9NSsaDfq9p",
    "outputId": "f15c32dd-4421-4aef-d412-70cb9c73ee86"
   },
   "outputs": [
    {
     "data": {
      "text/plain": [
       "''"
      ]
     },
     "execution_count": 14,
     "metadata": {
      "tags": []
     },
     "output_type": "execute_result"
    }
   ],
   "source": [
    "# remove html tag\n",
    "sample_str = '<h1>This is header 1.</h1>'\n",
    "re.sub(r'<.*>','',sample_str)"
   ]
  },
  {
   "cell_type": "markdown",
   "metadata": {
    "colab_type": "text",
    "id": "MHT8Hy-LKBrq"
   },
   "source": [
    "ถ้าเราไม่ต้องการการไล่หา pattern ที่ยาวที่สุดแบบด้านบน ให้ใส่ ? ตามหลัง"
   ]
  },
  {
   "cell_type": "code",
   "execution_count": 0,
   "metadata": {
    "colab": {
     "base_uri": "https://localhost:8080/",
     "height": 34
    },
    "colab_type": "code",
    "executionInfo": {
     "elapsed": 959,
     "status": "ok",
     "timestamp": 1548952678485,
     "user": {
      "displayName": "Witchapong Daroontham",
      "photoUrl": "",
      "userId": "15288324432596741279"
     },
     "user_tz": -420
    },
    "id": "cGOCnJEAwi-N",
    "outputId": "16e45de1-65c5-4f73-fb9a-ef26a2a2ef43"
   },
   "outputs": [
    {
     "data": {
      "text/plain": [
       "'This is header 1.'"
      ]
     },
     "execution_count": 18,
     "metadata": {
      "tags": []
     },
     "output_type": "execute_result"
    }
   ],
   "source": [
    "sample_str = '<h1>This is header 1.</h1>'\n",
    "re.sub(r'<.*?>','',sample_str)"
   ]
  },
  {
   "cell_type": "markdown",
   "metadata": {
    "colab_type": "text",
    "id": "w9bpkjNBKswo"
   },
   "source": [
    "ทีนี้ต้องการจะเอา text ข้างใน html tag บ้าง ก็อาจจะใช้ pattern r'>.*?<' ก่อน แล้วค่อยลบวงเล็บตรงหัวกับท้ายออก"
   ]
  },
  {
   "cell_type": "code",
   "execution_count": 0,
   "metadata": {
    "colab": {
     "base_uri": "https://localhost:8080/",
     "height": 34
    },
    "colab_type": "code",
    "executionInfo": {
     "elapsed": 858,
     "status": "ok",
     "timestamp": 1548952825604,
     "user": {
      "displayName": "Witchapong Daroontham",
      "photoUrl": "",
      "userId": "15288324432596741279"
     },
     "user_tz": -420
    },
    "id": "peK0avO7w-oN",
    "outputId": "fccabd6f-18b1-488a-f500-3d521ccad3d8"
   },
   "outputs": [
    {
     "data": {
      "text/plain": [
       "['This is header 1.', 'This is header 2.']"
      ]
     },
     "execution_count": 22,
     "metadata": {
      "tags": []
     },
     "output_type": "execute_result"
    }
   ],
   "source": [
    "# grab text inside desired html tag\n",
    "sample_str = '''<h1>This is header 1.</h1>\n",
    "                <h2>This is header 2.</h2>'''\n",
    "[re.sub(r'[<>]','',str) for str in re.findall(r'>.*?<',sample_str)]"
   ]
  },
  {
   "cell_type": "markdown",
   "metadata": {
    "colab_type": "text",
    "id": "Wpm1wPP0AxKm"
   },
   "source": [
    "**การหาคำที่อาจจะนำด้วยตัวพิมพ์ใหญ่ หรือเล็ก ก็ได้**"
   ]
  },
  {
   "cell_type": "code",
   "execution_count": 0,
   "metadata": {
    "colab": {
     "base_uri": "https://localhost:8080/",
     "height": 34
    },
    "colab_type": "code",
    "executionInfo": {
     "elapsed": 888,
     "status": "ok",
     "timestamp": 1548952973113,
     "user": {
      "displayName": "Witchapong Daroontham",
      "photoUrl": "",
      "userId": "15288324432596741279"
     },
     "user_tz": -420
    },
    "id": "j-lkDSF5f1Mg",
    "outputId": "0206fc42-0b0c-4d58-dbc5-aef84755c223"
   },
   "outputs": [
    {
     "data": {
      "text/plain": [
       "['Mcdonald', 'mcdonald']"
      ]
     },
     "execution_count": 24,
     "metadata": {
      "tags": []
     },
     "output_type": "execute_result"
    }
   ],
   "source": [
    "# word search\n",
    "sample_str = 'I am looking for a specific brand name like Mcdonald or mcdonald'\n",
    "re.findall(r'[Mm]cdonald',sample_str)"
   ]
  },
  {
   "cell_type": "markdown",
   "metadata": {
    "colab_type": "text",
    "id": "iLIU8ImvAyCf"
   },
   "source": [
    "**การดึง url**"
   ]
  },
  {
   "cell_type": "code",
   "execution_count": 0,
   "metadata": {
    "colab": {
     "base_uri": "https://localhost:8080/",
     "height": 85
    },
    "colab_type": "code",
    "executionInfo": {
     "elapsed": 850,
     "status": "ok",
     "timestamp": 1548953555064,
     "user": {
      "displayName": "Witchapong Daroontham",
      "photoUrl": "",
      "userId": "15288324432596741279"
     },
     "user_tz": -420
    },
    "id": "ad6bwRBZgGSx",
    "outputId": "380e2a0f-8920-413b-afc6-0e606a5a3d4e"
   },
   "outputs": [
    {
     "data": {
      "text/plain": [
       "['https://www.blah.com',\n",
       " 'http://blah.blah.com',\n",
       " 'http://blah.com/suburl1/suburl2',\n",
       " 'www.blah.org']"
      ]
     },
     "execution_count": 29,
     "metadata": {
      "tags": []
     },
     "output_type": "execute_result"
    }
   ],
   "source": [
    "# get the url\n",
    "sample_str = 'I am looking for urls like https://www.blah.com http://blah.blah.com http://blah.com/suburl1/suburl2 www.blah.org'\n",
    "re.findall(r'https?://\\S*|www.\\S*',sample_str)"
   ]
  },
  {
   "cell_type": "code",
   "execution_count": 8,
   "metadata": {
    "colab": {
     "base_uri": "https://localhost:8080/",
     "height": 34
    },
    "colab_type": "code",
    "executionInfo": {
     "elapsed": 988,
     "status": "ok",
     "timestamp": 1554866286151,
     "user": {
      "displayName": "Witchapong Daroontham",
      "photoUrl": "https://lh5.googleusercontent.com/-0up1uvf95V0/AAAAAAAAAAI/AAAAAAAAs2Y/YwZ6QTfItv4/s64/photo.jpg",
      "userId": "15288324432596741279"
     },
     "user_tz": -420
    },
    "id": "kUxfz0FU0TCT",
    "outputId": "77099546-c8e4-4b53-ea12-9a766d48aaa1"
   },
   "outputs": [
    {
     "data": {
      "text/plain": [
       "['13.123434', '100.999999']"
      ]
     },
     "execution_count": 8,
     "metadata": {
      "tags": []
     },
     "output_type": "execute_result"
    }
   ],
   "source": [
    "re.findall(r'\\d+.\\d+','[lat13.123434lon100.999999]')"
   ]
  },
  {
   "cell_type": "code",
   "execution_count": 0,
   "metadata": {
    "colab": {},
    "colab_type": "code",
    "id": "44Hgv_gKPywM"
   },
   "outputs": [],
   "source": []
  }
 ],
 "metadata": {
  "colab": {
   "collapsed_sections": [],
   "name": "8) re.ipynb",
   "provenance": [],
   "version": "0.3.2"
  },
  "kernelspec": {
   "display_name": "Python 3",
   "language": "python",
   "name": "python3"
  },
  "language_info": {
   "codemirror_mode": {
    "name": "ipython",
    "version": 3
   },
   "file_extension": ".py",
   "mimetype": "text/x-python",
   "name": "python",
   "nbconvert_exporter": "python",
   "pygments_lexer": "ipython3",
   "version": "3.5.2"
  }
 },
 "nbformat": 4,
 "nbformat_minor": 1
}
