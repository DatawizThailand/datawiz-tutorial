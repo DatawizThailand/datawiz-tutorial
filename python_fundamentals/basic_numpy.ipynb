{
 "cells": [
  {
   "cell_type": "markdown",
   "metadata": {},
   "source": [
    "# Basic Numpy"
   ]
  },
  {
   "cell_type": "markdown",
   "metadata": {
    "colab_type": "text",
    "id": "gaGKxI-HW-hL"
   },
   "source": [
    "**1) สร้าง vector, matrix**"
   ]
  },
  {
   "cell_type": "code",
   "execution_count": 0,
   "metadata": {
    "colab": {},
    "colab_type": "code",
    "id": "7OhWQ6g8WbqJ"
   },
   "outputs": [],
   "source": [
    "import numpy as np\n",
    "\n",
    "from IPython.display import display"
   ]
  },
  {
   "cell_type": "markdown",
   "metadata": {
    "colab_type": "text",
    "id": "BPwlmD4jVHkc"
   },
   "source": [
    "สร้าง vector (array 1 มิติ)"
   ]
  },
  {
   "cell_type": "code",
   "execution_count": 0,
   "metadata": {
    "colab": {
     "base_uri": "https://localhost:8080/",
     "height": 34
    },
    "colab_type": "code",
    "executionInfo": {
     "elapsed": 1130,
     "status": "ok",
     "timestamp": 1548173487118,
     "user": {
      "displayName": "Witchapong Daroontham",
      "photoUrl": "",
      "userId": "15288324432596741279"
     },
     "user_tz": -420
    },
    "id": "c01NNXXPWheO",
    "outputId": "17a4c1b1-b12e-48d8-9ad1-f3b5cf58a2be"
   },
   "outputs": [
    {
     "data": {
      "text/plain": [
       "array([1, 2, 3], dtype=int8)"
      ]
     },
     "execution_count": 37,
     "metadata": {
      "tags": []
     },
     "output_type": "execute_result"
    }
   ],
   "source": [
    "a = np.array([1,2,3],dtype='int8')\n",
    "a"
   ]
  },
  {
   "cell_type": "markdown",
   "metadata": {
    "colab_type": "text",
    "id": "O-QBUWw_VMFp"
   },
   "source": [
    "เช็ค dimension ของ array"
   ]
  },
  {
   "cell_type": "code",
   "execution_count": 0,
   "metadata": {
    "colab": {
     "base_uri": "https://localhost:8080/",
     "height": 34
    },
    "colab_type": "code",
    "executionInfo": {
     "elapsed": 1029,
     "status": "ok",
     "timestamp": 1548173524085,
     "user": {
      "displayName": "Witchapong Daroontham",
      "photoUrl": "",
      "userId": "15288324432596741279"
     },
     "user_tz": -420
    },
    "id": "AUyPas_lWpZA",
    "outputId": "4c440685-7b37-4144-b962-3364b27c7a1d"
   },
   "outputs": [
    {
     "data": {
      "text/plain": [
       "(3,)"
      ]
     },
     "execution_count": 38,
     "metadata": {
      "tags": []
     },
     "output_type": "execute_result"
    }
   ],
   "source": [
    "a.shape"
   ]
  },
  {
   "cell_type": "markdown",
   "metadata": {
    "colab_type": "text",
    "id": "vpT7PVuXWBB-"
   },
   "source": [
    "สร้าง matrix (array หลาย มิติ)"
   ]
  },
  {
   "cell_type": "code",
   "execution_count": 0,
   "metadata": {
    "colab": {
     "base_uri": "https://localhost:8080/",
     "height": 51
    },
    "colab_type": "code",
    "executionInfo": {
     "elapsed": 1053,
     "status": "ok",
     "timestamp": 1548173721834,
     "user": {
      "displayName": "Witchapong Daroontham",
      "photoUrl": "",
      "userId": "15288324432596741279"
     },
     "user_tz": -420
    },
    "id": "aVlOtNWeWttY",
    "outputId": "d8834af5-1116-45d7-b571-7e70a285219a"
   },
   "outputs": [
    {
     "data": {
      "text/plain": [
       "array([[1., 2., 3.],\n",
       "       [4., 5., 6.]])"
      ]
     },
     "execution_count": 39,
     "metadata": {
      "tags": []
     },
     "output_type": "execute_result"
    }
   ],
   "source": [
    "b = np.array([[1,2,3],[4,5,6]],dtype='float64')\n",
    "b"
   ]
  },
  {
   "cell_type": "markdown",
   "metadata": {
    "colab_type": "text",
    "id": "IzvRtD0eWEg0"
   },
   "source": [
    "เช็ค dimension ของ matrix"
   ]
  },
  {
   "cell_type": "code",
   "execution_count": 0,
   "metadata": {
    "colab": {
     "base_uri": "https://localhost:8080/",
     "height": 34
    },
    "colab_type": "code",
    "executionInfo": {
     "elapsed": 1589,
     "status": "ok",
     "timestamp": 1548173299952,
     "user": {
      "displayName": "Witchapong Daroontham",
      "photoUrl": "",
      "userId": "15288324432596741279"
     },
     "user_tz": -420
    },
    "id": "HEfplSOeW52U",
    "outputId": "e1ed499f-f83c-4acc-cc23-883c42ea9a52"
   },
   "outputs": [
    {
     "data": {
      "text/plain": [
       "(2, 3)"
      ]
     },
     "execution_count": 5,
     "metadata": {
      "tags": []
     },
     "output_type": "execute_result"
    }
   ],
   "source": [
    "b.shape"
   ]
  },
  {
   "cell_type": "markdown",
   "metadata": {
    "colab_type": "text",
    "id": "JgdkioJhWLM4"
   },
   "source": [
    "คำสั่งเรียก array พิเศษบางชนิดที่น่าสนใจ"
   ]
  },
  {
   "cell_type": "code",
   "execution_count": 0,
   "metadata": {
    "colab": {
     "base_uri": "https://localhost:8080/",
     "height": 119
    },
    "colab_type": "code",
    "executionInfo": {
     "elapsed": 1575,
     "status": "ok",
     "timestamp": 1548173299952,
     "user": {
      "displayName": "Witchapong Daroontham",
      "photoUrl": "",
      "userId": "15288324432596741279"
     },
     "user_tz": -420
    },
    "id": "oeFhxMm7XVJ_",
    "outputId": "5dd91350-a528-4ed5-b46f-77863d88a4b3"
   },
   "outputs": [
    {
     "data": {
      "text/plain": [
       "array([[1., 1., 1.],\n",
       "       [1., 1., 1.],\n",
       "       [1., 1., 1.]])"
      ]
     },
     "metadata": {
      "tags": []
     },
     "output_type": "display_data"
    },
    {
     "data": {
      "text/plain": [
       "array([[0., 0., 0.],\n",
       "       [0., 0., 0.],\n",
       "       [0., 0., 0.]])"
      ]
     },
     "metadata": {
      "tags": []
     },
     "output_type": "display_data"
    }
   ],
   "source": [
    "display(np.ones([3,3])); display(np.zeros([3,3]))"
   ]
  },
  {
   "cell_type": "markdown",
   "metadata": {
    "colab_type": "text",
    "id": "gg-pOY5RY1kC"
   },
   "source": [
    "**2) Indexing**"
   ]
  },
  {
   "cell_type": "code",
   "execution_count": 0,
   "metadata": {
    "colab": {
     "base_uri": "https://localhost:8080/",
     "height": 68
    },
    "colab_type": "code",
    "executionInfo": {
     "elapsed": 1560,
     "status": "ok",
     "timestamp": 1548173299954,
     "user": {
      "displayName": "Witchapong Daroontham",
      "photoUrl": "",
      "userId": "15288324432596741279"
     },
     "user_tz": -420
    },
    "id": "PhWHI4QJY7aK",
    "outputId": "401d0e5c-5ff6-4ef3-b0f2-7f073e70322e"
   },
   "outputs": [
    {
     "data": {
      "text/plain": [
       "array([[1, 2, 3],\n",
       "       [4, 5, 6],\n",
       "       [7, 8, 9]])"
      ]
     },
     "execution_count": 7,
     "metadata": {
      "tags": []
     },
     "output_type": "execute_result"
    }
   ],
   "source": [
    "a = np.array([[1,2,3],[4,5,6],[7,8,9]])\n",
    "a"
   ]
  },
  {
   "cell_type": "markdown",
   "metadata": {
    "colab_type": "text",
    "id": "ETroI2IwD6IQ"
   },
   "source": [
    "ระบุ dimension เดียว"
   ]
  },
  {
   "cell_type": "code",
   "execution_count": 0,
   "metadata": {
    "colab": {
     "base_uri": "https://localhost:8080/",
     "height": 51
    },
    "colab_type": "code",
    "executionInfo": {
     "elapsed": 1545,
     "status": "ok",
     "timestamp": 1548173299955,
     "user": {
      "displayName": "Witchapong Daroontham",
      "photoUrl": "",
      "userId": "15288324432596741279"
     },
     "user_tz": -420
    },
    "id": "uUF_iuwKZXr9",
    "outputId": "ac2fd221-e868-4ae8-af71-ec848b95e072"
   },
   "outputs": [
    {
     "data": {
      "text/plain": [
       "array([1, 2, 3])"
      ]
     },
     "metadata": {
      "tags": []
     },
     "output_type": "display_data"
    },
    {
     "data": {
      "text/plain": [
       "array([7, 8, 9])"
      ]
     },
     "metadata": {
      "tags": []
     },
     "output_type": "display_data"
    }
   ],
   "source": [
    "display(a[0]); display(a[-1])"
   ]
  },
  {
   "cell_type": "markdown",
   "metadata": {
    "colab_type": "text",
    "id": "L77t1DrbD93s"
   },
   "source": [
    "ระบุ 2 dimension"
   ]
  },
  {
   "cell_type": "code",
   "execution_count": 0,
   "metadata": {
    "colab": {
     "base_uri": "https://localhost:8080/",
     "height": 51
    },
    "colab_type": "code",
    "executionInfo": {
     "elapsed": 1536,
     "status": "ok",
     "timestamp": 1548173299956,
     "user": {
      "displayName": "Witchapong Daroontham",
      "photoUrl": "",
      "userId": "15288324432596741279"
     },
     "user_tz": -420
    },
    "id": "Zecm-0PTZasL",
    "outputId": "32e28c5e-e0f7-4bce-f3e2-f5a5e9204692"
   },
   "outputs": [
    {
     "data": {
      "text/plain": [
       "5"
      ]
     },
     "metadata": {
      "tags": []
     },
     "output_type": "display_data"
    },
    {
     "data": {
      "text/plain": [
       "9"
      ]
     },
     "metadata": {
      "tags": []
     },
     "output_type": "display_data"
    }
   ],
   "source": [
    "display(a[1,1]); display(a[-1,-1])"
   ]
  },
  {
   "cell_type": "markdown",
   "metadata": {
    "colab_type": "text",
    "id": "3l37LP3hEFY9"
   },
   "source": [
    "ระบุ index โดยใช้ '':''"
   ]
  },
  {
   "cell_type": "code",
   "execution_count": 0,
   "metadata": {
    "colab": {
     "base_uri": "https://localhost:8080/",
     "height": 102
    },
    "colab_type": "code",
    "executionInfo": {
     "elapsed": 1520,
     "status": "ok",
     "timestamp": 1548173299956,
     "user": {
      "displayName": "Witchapong Daroontham",
      "photoUrl": "",
      "userId": "15288324432596741279"
     },
     "user_tz": -420
    },
    "id": "9rUz5SBaZtrO",
    "outputId": "ccd0e9da-dda9-46b4-bdbe-4f7037d5df9d"
   },
   "outputs": [
    {
     "data": {
      "text/plain": [
       "array([[4, 5, 6],\n",
       "       [7, 8, 9]])"
      ]
     },
     "metadata": {
      "tags": []
     },
     "output_type": "display_data"
    },
    {
     "data": {
      "text/plain": [
       "array([[1, 2],\n",
       "       [4, 5],\n",
       "       [7, 8]])"
      ]
     },
     "metadata": {
      "tags": []
     },
     "output_type": "display_data"
    }
   ],
   "source": [
    "display(a[1:,:]); display(a[:,:-1])"
   ]
  },
  {
   "cell_type": "markdown",
   "metadata": {
    "colab_type": "text",
    "id": "BPFig0ZZEWJO"
   },
   "source": [
    "ระบุหลาย index"
   ]
  },
  {
   "cell_type": "code",
   "execution_count": 0,
   "metadata": {
    "colab": {
     "base_uri": "https://localhost:8080/",
     "height": 102
    },
    "colab_type": "code",
    "executionInfo": {
     "elapsed": 1512,
     "status": "ok",
     "timestamp": 1548173299959,
     "user": {
      "displayName": "Witchapong Daroontham",
      "photoUrl": "",
      "userId": "15288324432596741279"
     },
     "user_tz": -420
    },
    "id": "JR6BBWLraNJw",
    "outputId": "c6c6e999-291e-42bf-ab5f-30e7089d398d"
   },
   "outputs": [
    {
     "data": {
      "text/plain": [
       "array([[4, 5, 6],\n",
       "       [7, 8, 9]])"
      ]
     },
     "metadata": {
      "tags": []
     },
     "output_type": "display_data"
    },
    {
     "data": {
      "text/plain": [
       "array([[2, 3],\n",
       "       [5, 6],\n",
       "       [8, 9]])"
      ]
     },
     "metadata": {
      "tags": []
     },
     "output_type": "display_data"
    }
   ],
   "source": [
    "display(a[[1,-1],:]); display(a[:,[1,-1]])"
   ]
  },
  {
   "cell_type": "markdown",
   "metadata": {
    "colab_type": "text",
    "id": "4_emnAhrXQA9"
   },
   "source": [
    "**3) Operation บวก, ลบ, คูณ, หาร**"
   ]
  },
  {
   "cell_type": "code",
   "execution_count": 0,
   "metadata": {
    "colab": {
     "base_uri": "https://localhost:8080/",
     "height": 51
    },
    "colab_type": "code",
    "executionInfo": {
     "elapsed": 1503,
     "status": "ok",
     "timestamp": 1548173299960,
     "user": {
      "displayName": "Witchapong Daroontham",
      "photoUrl": "",
      "userId": "15288324432596741279"
     },
     "user_tz": -420
    },
    "id": "5As-6BxGW8xn",
    "outputId": "047fa586-c936-47b2-ac3a-2addf46ce3b7"
   },
   "outputs": [
    {
     "data": {
      "text/plain": [
       "array([[1, 2],\n",
       "       [3, 4]])"
      ]
     },
     "execution_count": 12,
     "metadata": {
      "tags": []
     },
     "output_type": "execute_result"
    }
   ],
   "source": [
    "a=np.array([[1,2],[3,4]])\n",
    "a"
   ]
  },
  {
   "cell_type": "code",
   "execution_count": 0,
   "metadata": {
    "colab": {
     "base_uri": "https://localhost:8080/",
     "height": 51
    },
    "colab_type": "code",
    "executionInfo": {
     "elapsed": 1493,
     "status": "ok",
     "timestamp": 1548173299961,
     "user": {
      "displayName": "Witchapong Daroontham",
      "photoUrl": "",
      "userId": "15288324432596741279"
     },
     "user_tz": -420
    },
    "id": "HpH_U5bga4EM",
    "outputId": "a03a52a6-8d2c-4ef0-873e-a9aaf3d12b6d"
   },
   "outputs": [
    {
     "data": {
      "text/plain": [
       "array([[5, 6],\n",
       "       [7, 8]])"
      ]
     },
     "execution_count": 13,
     "metadata": {
      "tags": []
     },
     "output_type": "execute_result"
    }
   ],
   "source": [
    "b=np.array([[5,6],[7,8]])\n",
    "b"
   ]
  },
  {
   "cell_type": "markdown",
   "metadata": {
    "colab_type": "text",
    "id": "D52pnx9RFVeQ"
   },
   "source": [
    "operation ระหว่าง array กับ array ที่ dimension เหมือนกัน"
   ]
  },
  {
   "cell_type": "code",
   "execution_count": 0,
   "metadata": {
    "colab": {
     "base_uri": "https://localhost:8080/",
     "height": 153
    },
    "colab_type": "code",
    "executionInfo": {
     "elapsed": 1483,
     "status": "ok",
     "timestamp": 1548173299962,
     "user": {
      "displayName": "Witchapong Daroontham",
      "photoUrl": "",
      "userId": "15288324432596741279"
     },
     "user_tz": -420
    },
    "id": "j8Oos888bEs4",
    "outputId": "1a19e008-d6b9-4267-a772-c6a9c236ede7"
   },
   "outputs": [
    {
     "data": {
      "text/plain": [
       "array([[ 6,  8],\n",
       "       [10, 12]])"
      ]
     },
     "metadata": {
      "tags": []
     },
     "output_type": "display_data"
    },
    {
     "data": {
      "text/plain": [
       "array([[-4, -4],\n",
       "       [-4, -4]])"
      ]
     },
     "metadata": {
      "tags": []
     },
     "output_type": "display_data"
    },
    {
     "data": {
      "text/plain": [
       "array([[ 5, 12],\n",
       "       [21, 32]])"
      ]
     },
     "metadata": {
      "tags": []
     },
     "output_type": "display_data"
    },
    {
     "data": {
      "text/plain": [
       "array([[0.2       , 0.33333333],\n",
       "       [0.42857143, 0.5       ]])"
      ]
     },
     "metadata": {
      "tags": []
     },
     "output_type": "display_data"
    }
   ],
   "source": [
    "display(a+b); display(a-b); display(a*b); display(a/b)"
   ]
  },
  {
   "cell_type": "markdown",
   "metadata": {
    "colab_type": "text",
    "id": "h2E0bUXdFZJO"
   },
   "source": [
    "operation ระหว่าง array กับ scalar"
   ]
  },
  {
   "cell_type": "code",
   "execution_count": 0,
   "metadata": {
    "colab": {
     "base_uri": "https://localhost:8080/",
     "height": 51
    },
    "colab_type": "code",
    "executionInfo": {
     "elapsed": 1471,
     "status": "ok",
     "timestamp": 1548173299962,
     "user": {
      "displayName": "Witchapong Daroontham",
      "photoUrl": "",
      "userId": "15288324432596741279"
     },
     "user_tz": -420
    },
    "id": "HLdzbIOibZqk",
    "outputId": "3ff98db6-75a1-42c8-bfa0-3f44e7828460"
   },
   "outputs": [
    {
     "data": {
      "text/plain": [
       "array([[6, 7],\n",
       "       [8, 9]])"
      ]
     },
     "execution_count": 15,
     "metadata": {
      "tags": []
     },
     "output_type": "execute_result"
    }
   ],
   "source": [
    "a+5"
   ]
  },
  {
   "cell_type": "markdown",
   "metadata": {
    "colab_type": "text",
    "id": "cxjcQhB8Fcn8"
   },
   "source": [
    "operation ระหว่าง array ที่ dimension ไม่เหมือนกัน - Broadcasting"
   ]
  },
  {
   "cell_type": "code",
   "execution_count": 0,
   "metadata": {
    "colab": {
     "base_uri": "https://localhost:8080/",
     "height": 85
    },
    "colab_type": "code",
    "executionInfo": {
     "elapsed": 1461,
     "status": "ok",
     "timestamp": 1548173299962,
     "user": {
      "displayName": "Witchapong Daroontham",
      "photoUrl": "",
      "userId": "15288324432596741279"
     },
     "user_tz": -420
    },
    "id": "QFMKYeJAbaeP",
    "outputId": "2bce132c-9087-487d-be14-951926911dcf"
   },
   "outputs": [
    {
     "data": {
      "text/plain": [
       "array([[1, 2, 3],\n",
       "       [4, 5, 6],\n",
       "       [7, 8, 9]])"
      ]
     },
     "metadata": {
      "tags": []
     },
     "output_type": "display_data"
    },
    {
     "data": {
      "text/plain": [
       "array([[1, 2, 3]])"
      ]
     },
     "metadata": {
      "tags": []
     },
     "output_type": "display_data"
    }
   ],
   "source": [
    "a=np.array([[1,2,3],[4,5,6],[7,8,9]]); b=np.array([[1,2,3]])\n",
    "display(a); display(b);"
   ]
  },
  {
   "cell_type": "code",
   "execution_count": 0,
   "metadata": {
    "colab": {
     "base_uri": "https://localhost:8080/",
     "height": 68
    },
    "colab_type": "code",
    "executionInfo": {
     "elapsed": 1449,
     "status": "ok",
     "timestamp": 1548173299964,
     "user": {
      "displayName": "Witchapong Daroontham",
      "photoUrl": "",
      "userId": "15288324432596741279"
     },
     "user_tz": -420
    },
    "id": "bPiepgHvc7Bx",
    "outputId": "954b564b-dc7a-44b3-87b5-997e0ced5676"
   },
   "outputs": [
    {
     "data": {
      "text/plain": [
       "array([[ 2,  4,  6],\n",
       "       [ 5,  7,  9],\n",
       "       [ 8, 10, 12]])"
      ]
     },
     "execution_count": 17,
     "metadata": {
      "tags": []
     },
     "output_type": "execute_result"
    }
   ],
   "source": [
    "a+b"
   ]
  },
  {
   "cell_type": "code",
   "execution_count": 0,
   "metadata": {
    "colab": {
     "base_uri": "https://localhost:8080/",
     "height": 119
    },
    "colab_type": "code",
    "executionInfo": {
     "elapsed": 1434,
     "status": "ok",
     "timestamp": 1548173299964,
     "user": {
      "displayName": "Witchapong Daroontham",
      "photoUrl": "",
      "userId": "15288324432596741279"
     },
     "user_tz": -420
    },
    "id": "tLi7V6-hc9aJ",
    "outputId": "76bb7a38-6c01-4793-c068-a2c720254a20"
   },
   "outputs": [
    {
     "data": {
      "text/plain": [
       "array([[1, 2, 3],\n",
       "       [4, 5, 6],\n",
       "       [7, 8, 9]])"
      ]
     },
     "metadata": {
      "tags": []
     },
     "output_type": "display_data"
    },
    {
     "data": {
      "text/plain": [
       "array([[1],\n",
       "       [2],\n",
       "       [3]])"
      ]
     },
     "metadata": {
      "tags": []
     },
     "output_type": "display_data"
    }
   ],
   "source": [
    "a=np.array([[1,2,3],[4,5,6],[7,8,9]]); b=np.array([[1],[2],[3]])\n",
    "display(a); display(b)"
   ]
  },
  {
   "cell_type": "code",
   "execution_count": 0,
   "metadata": {
    "colab": {
     "base_uri": "https://localhost:8080/",
     "height": 68
    },
    "colab_type": "code",
    "executionInfo": {
     "elapsed": 1426,
     "status": "ok",
     "timestamp": 1548173299967,
     "user": {
      "displayName": "Witchapong Daroontham",
      "photoUrl": "",
      "userId": "15288324432596741279"
     },
     "user_tz": -420
    },
    "id": "XQBH5PhudMO6",
    "outputId": "988c08a8-5186-4775-e3c5-b53512966bf9"
   },
   "outputs": [
    {
     "data": {
      "text/plain": [
       "array([[ 2,  3,  4],\n",
       "       [ 6,  7,  8],\n",
       "       [10, 11, 12]])"
      ]
     },
     "execution_count": 19,
     "metadata": {
      "tags": []
     },
     "output_type": "execute_result"
    }
   ],
   "source": [
    "a+b"
   ]
  },
  {
   "cell_type": "markdown",
   "metadata": {
    "colab_type": "text",
    "id": "da5JzGyo1Ybs"
   },
   "source": [
    "**4) Operation สำหรับ matrix (Linear algebra function)**"
   ]
  },
  {
   "cell_type": "markdown",
   "metadata": {
    "colab_type": "text",
    "id": "xHrO6DKQG0wY"
   },
   "source": [
    "คูณ matrix"
   ]
  },
  {
   "cell_type": "code",
   "execution_count": 0,
   "metadata": {
    "colab": {},
    "colab_type": "code",
    "id": "ldU4kERkdSax"
   },
   "outputs": [],
   "source": [
    "# กำหนด A เป็น matrix ขนาด 3 x 2\n",
    "A=np.array([[1,2],\n",
    "            [3,4],\n",
    "            [5,6]])\n",
    "\n",
    "# กำหนด B เป็น matrix ขนาด 2 x 1\n",
    "B=np.array([[1],\n",
    "            [5]])"
   ]
  },
  {
   "cell_type": "code",
   "execution_count": 0,
   "metadata": {
    "colab": {
     "base_uri": "https://localhost:8080/",
     "height": 68
    },
    "colab_type": "code",
    "executionInfo": {
     "elapsed": 1412,
     "status": "ok",
     "timestamp": 1548173299969,
     "user": {
      "displayName": "Witchapong Daroontham",
      "photoUrl": "",
      "userId": "15288324432596741279"
     },
     "user_tz": -420
    },
    "id": "TeoE1Gjz2tyc",
    "outputId": "602e93f6-3055-4dc1-9240-aec665203d41"
   },
   "outputs": [
    {
     "data": {
      "text/plain": [
       "array([[11],\n",
       "       [23],\n",
       "       [35]])"
      ]
     },
     "execution_count": 21,
     "metadata": {
      "tags": []
     },
     "output_type": "execute_result"
    }
   ],
   "source": [
    "# คูณ matrix: A x B =ได้ matrix ผลลัพธ์ขนาด 3 x 1\n",
    "np.dot(A,B)"
   ]
  },
  {
   "cell_type": "markdown",
   "metadata": {
    "colab_type": "text",
    "id": "T80n-3MCG9Qh"
   },
   "source": [
    "Transpose"
   ]
  },
  {
   "cell_type": "code",
   "execution_count": 0,
   "metadata": {
    "colab": {
     "base_uri": "https://localhost:8080/",
     "height": 68
    },
    "colab_type": "code",
    "executionInfo": {
     "elapsed": 1746,
     "status": "ok",
     "timestamp": 1548173300313,
     "user": {
      "displayName": "Witchapong Daroontham",
      "photoUrl": "",
      "userId": "15288324432596741279"
     },
     "user_tz": -420
    },
    "id": "ChBDa6XU2zR_",
    "outputId": "5c55b510-a2cd-4006-b3d8-70e9c30b3637"
   },
   "outputs": [
    {
     "data": {
      "text/plain": [
       "array([[1, 3, 2],\n",
       "       [4, 9, 6],\n",
       "       [7, 1, 3]])"
      ]
     },
     "metadata": {
      "tags": []
     },
     "output_type": "display_data"
    }
   ],
   "source": [
    "a = np.array([[1,3,2],\n",
    "           [4,9,6],\n",
    "           [7,1,3]])\n",
    "display(a)"
   ]
  },
  {
   "cell_type": "code",
   "execution_count": 0,
   "metadata": {
    "colab": {
     "base_uri": "https://localhost:8080/",
     "height": 68
    },
    "colab_type": "code",
    "executionInfo": {
     "elapsed": 1740,
     "status": "ok",
     "timestamp": 1548173300314,
     "user": {
      "displayName": "Witchapong Daroontham",
      "photoUrl": "",
      "userId": "15288324432596741279"
     },
     "user_tz": -420
    },
    "id": "_mVRtki56AOT",
    "outputId": "700ec62d-d54b-4c6c-ee13-1fcd9ec0247e"
   },
   "outputs": [
    {
     "data": {
      "text/plain": [
       "array([[1, 4, 7],\n",
       "       [3, 9, 1],\n",
       "       [2, 6, 3]])"
      ]
     },
     "metadata": {
      "tags": []
     },
     "output_type": "display_data"
    }
   ],
   "source": [
    "display(a.T)"
   ]
  },
  {
   "cell_type": "markdown",
   "metadata": {
    "colab_type": "text",
    "id": "pSEd4NrVHDwz"
   },
   "source": [
    "หา determinant"
   ]
  },
  {
   "cell_type": "code",
   "execution_count": 0,
   "metadata": {
    "colab": {
     "base_uri": "https://localhost:8080/",
     "height": 34
    },
    "colab_type": "code",
    "executionInfo": {
     "elapsed": 1734,
     "status": "ok",
     "timestamp": 1548173300315,
     "user": {
      "displayName": "Witchapong Daroontham",
      "photoUrl": "",
      "userId": "15288324432596741279"
     },
     "user_tz": -420
    },
    "id": "MjKxYVG66D7O",
    "outputId": "3e14e6ad-4a71-4db8-8cf2-80bae9c8e7d4"
   },
   "outputs": [
    {
     "data": {
      "text/plain": [
       "-6.999999999999995"
      ]
     },
     "metadata": {
      "tags": []
     },
     "output_type": "display_data"
    }
   ],
   "source": [
    "display(np.linalg.det(a))"
   ]
  },
  {
   "cell_type": "markdown",
   "metadata": {
    "colab_type": "text",
    "id": "uHTTtHkKHHDY"
   },
   "source": [
    "หา inverse"
   ]
  },
  {
   "cell_type": "code",
   "execution_count": 0,
   "metadata": {
    "colab": {
     "base_uri": "https://localhost:8080/",
     "height": 68
    },
    "colab_type": "code",
    "executionInfo": {
     "elapsed": 1728,
     "status": "ok",
     "timestamp": 1548173300316,
     "user": {
      "displayName": "Witchapong Daroontham",
      "photoUrl": "",
      "userId": "15288324432596741279"
     },
     "user_tz": -420
    },
    "id": "akoZ_Sne6VNY",
    "outputId": "439d2b21-3da1-483d-87b2-3f521ba7b205"
   },
   "outputs": [
    {
     "data": {
      "text/plain": [
       "array([[-3.00000000e+00,  1.00000000e+00, -1.98254112e-16],\n",
       "       [-4.28571429e+00,  1.57142857e+00, -2.85714286e-01],\n",
       "       [ 8.42857143e+00, -2.85714286e+00,  4.28571429e-01]])"
      ]
     },
     "metadata": {
      "tags": []
     },
     "output_type": "display_data"
    }
   ],
   "source": [
    "display(np.linalg.inv(a))"
   ]
  },
  {
   "cell_type": "markdown",
   "metadata": {
    "colab_type": "text",
    "id": "leAwHU4v9feM"
   },
   "source": [
    "**5) หาค่าทางสถิติต่างๆ**"
   ]
  },
  {
   "cell_type": "code",
   "execution_count": 0,
   "metadata": {
    "colab": {
     "base_uri": "https://localhost:8080/",
     "height": 68
    },
    "colab_type": "code",
    "executionInfo": {
     "elapsed": 1724,
     "status": "ok",
     "timestamp": 1548173300318,
     "user": {
      "displayName": "Witchapong Daroontham",
      "photoUrl": "",
      "userId": "15288324432596741279"
     },
     "user_tz": -420
    },
    "id": "D1m1UGMO6pIe",
    "outputId": "fdbc8d91-6c99-470e-b347-2eaebf5a98e5"
   },
   "outputs": [
    {
     "data": {
      "text/plain": [
       "array([[1, 3],\n",
       "       [4, 9],\n",
       "       [7, 1]])"
      ]
     },
     "metadata": {
      "tags": []
     },
     "output_type": "display_data"
    }
   ],
   "source": [
    "a=np.array([[1,3],\n",
    "           [4,9],\n",
    "           [7,1]])\n",
    "display(a)"
   ]
  },
  {
   "cell_type": "markdown",
   "metadata": {
    "colab_type": "text",
    "id": "Y7nuN9TOIEiO"
   },
   "source": [
    "หาค่า min, max, mean, standard dev"
   ]
  },
  {
   "cell_type": "code",
   "execution_count": 0,
   "metadata": {
    "colab": {
     "base_uri": "https://localhost:8080/",
     "height": 34
    },
    "colab_type": "code",
    "executionInfo": {
     "elapsed": 1721,
     "status": "ok",
     "timestamp": 1548173300320,
     "user": {
      "displayName": "Witchapong Daroontham",
      "photoUrl": "",
      "userId": "15288324432596741279"
     },
     "user_tz": -420
    },
    "id": "dvb-jxDU9vo6",
    "outputId": "b2ba4bab-200b-4ab1-991d-da83ba7f9dc2"
   },
   "outputs": [
    {
     "name": "stdout",
     "output_type": "stream",
     "text": [
      "min:1\tmax:9\tmean:4.166666666666667\tstd:2.9674156357941426\n"
     ]
    }
   ],
   "source": [
    "print(f'min:{np.min(a)}\\tmax:{np.max(a)}\\tmean:{np.mean(a)}\\tstd:{np.std(a)}')"
   ]
  },
  {
   "cell_type": "markdown",
   "metadata": {
    "colab_type": "text",
    "id": "0k_RqJFXIH8-"
   },
   "source": [
    "หาค่า min, max, mean, standard dev แต่ละ column"
   ]
  },
  {
   "cell_type": "code",
   "execution_count": 0,
   "metadata": {
    "colab": {
     "base_uri": "https://localhost:8080/",
     "height": 34
    },
    "colab_type": "code",
    "executionInfo": {
     "elapsed": 1714,
     "status": "ok",
     "timestamp": 1548173300321,
     "user": {
      "displayName": "Witchapong Daroontham",
      "photoUrl": "",
      "userId": "15288324432596741279"
     },
     "user_tz": -420
    },
    "id": "YUE2RHwO-Ate",
    "outputId": "5cbb94eb-e590-4465-ddb8-2ffec7d7790c"
   },
   "outputs": [
    {
     "name": "stdout",
     "output_type": "stream",
     "text": [
      "min:[1 1]\tmax:[7 9]\tmean:[4.         4.33333333]\tstd:[2.44948974 3.39934634]\n"
     ]
    }
   ],
   "source": [
    "print(f'min:{np.min(a,axis=0)}\\tmax:{np.max(a,axis=0)}\\tmean:{np.mean(a,axis=0)}\\tstd:{np.std(a,axis=0)}')"
   ]
  },
  {
   "cell_type": "markdown",
   "metadata": {
    "colab_type": "text",
    "id": "fc60UJveIJuN"
   },
   "source": [
    "หาค่า min, max, mean, standard dev แต่ละ row"
   ]
  },
  {
   "cell_type": "code",
   "execution_count": 0,
   "metadata": {
    "colab": {
     "base_uri": "https://localhost:8080/",
     "height": 34
    },
    "colab_type": "code",
    "executionInfo": {
     "elapsed": 1704,
     "status": "ok",
     "timestamp": 1548173300322,
     "user": {
      "displayName": "Witchapong Daroontham",
      "photoUrl": "",
      "userId": "15288324432596741279"
     },
     "user_tz": -420
    },
    "id": "pXR4KJt1_PWe",
    "outputId": "41680e9c-c769-4b2d-b75e-3b96ef0572d1"
   },
   "outputs": [
    {
     "name": "stdout",
     "output_type": "stream",
     "text": [
      "min:[1 4 1]\tmax:[3 9 7]\tmean:[2.  6.5 4. ]\tstd:[1.  2.5 3. ]\n"
     ]
    }
   ],
   "source": [
    " print(f'min:{np.min(a,axis=1)}\\tmax:{np.max(a,axis=1)}\\tmean:{np.mean(a,axis=1)}\\tstd:{np.std(a,axis=1)}')"
   ]
  },
  {
   "cell_type": "markdown",
   "metadata": {
    "colab_type": "text",
    "id": "qppHIXIc_01t"
   },
   "source": [
    "**6) Reshape**"
   ]
  },
  {
   "cell_type": "code",
   "execution_count": 0,
   "metadata": {
    "colab": {
     "base_uri": "https://localhost:8080/",
     "height": 68
    },
    "colab_type": "code",
    "executionInfo": {
     "elapsed": 1691,
     "status": "ok",
     "timestamp": 1548173300324,
     "user": {
      "displayName": "Witchapong Daroontham",
      "photoUrl": "",
      "userId": "15288324432596741279"
     },
     "user_tz": -420
    },
    "id": "5zB4SMEI_SyV",
    "outputId": "8593b3a8-9c78-4056-c303-7c0d8d5c5a36"
   },
   "outputs": [
    {
     "data": {
      "text/plain": [
       "array([[1, 2, 3],\n",
       "       [4, 5, 6],\n",
       "       [7, 8, 9]])"
      ]
     },
     "metadata": {
      "tags": []
     },
     "output_type": "display_data"
    }
   ],
   "source": [
    "a = np.array([[1,2,3],[4,5,6],[7,8,9]])\n",
    "display(a)"
   ]
  },
  {
   "cell_type": "code",
   "execution_count": 0,
   "metadata": {
    "colab": {
     "base_uri": "https://localhost:8080/",
     "height": 170
    },
    "colab_type": "code",
    "executionInfo": {
     "elapsed": 1676,
     "status": "ok",
     "timestamp": 1548173300324,
     "user": {
      "displayName": "Witchapong Daroontham",
      "photoUrl": "",
      "userId": "15288324432596741279"
     },
     "user_tz": -420
    },
    "id": "FyJMD4bqAP7g",
    "outputId": "badb6651-8393-4232-e9ef-0c94ba8dc3b7"
   },
   "outputs": [
    {
     "data": {
      "text/plain": [
       "array([[1],\n",
       "       [2],\n",
       "       [3],\n",
       "       [4],\n",
       "       [5],\n",
       "       [6],\n",
       "       [7],\n",
       "       [8],\n",
       "       [9]])"
      ]
     },
     "metadata": {
      "tags": []
     },
     "output_type": "display_data"
    }
   ],
   "source": [
    "display(a.reshape(9,1))"
   ]
  },
  {
   "cell_type": "code",
   "execution_count": 0,
   "metadata": {
    "colab": {
     "base_uri": "https://localhost:8080/",
     "height": 34
    },
    "colab_type": "code",
    "executionInfo": {
     "elapsed": 1668,
     "status": "ok",
     "timestamp": 1548173300325,
     "user": {
      "displayName": "Witchapong Daroontham",
      "photoUrl": "",
      "userId": "15288324432596741279"
     },
     "user_tz": -420
    },
    "id": "3McPWOXhAhOD",
    "outputId": "bca58828-62f8-4a9f-f3e6-edfd0b8545e8"
   },
   "outputs": [
    {
     "data": {
      "text/plain": [
       "array([[1, 2, 3, 4, 5, 6, 7, 8, 9]])"
      ]
     },
     "metadata": {
      "tags": []
     },
     "output_type": "display_data"
    }
   ],
   "source": [
    "# (1,-1) หมายความว่ากี่ column ก็ได้ ขอให้ 1 row\n",
    "display(a.reshape(1,-1))"
   ]
  },
  {
   "cell_type": "markdown",
   "metadata": {
    "colab_type": "text",
    "id": "Q9SqCig6A1V9"
   },
   "source": [
    "**7) การสุ่มค่า**"
   ]
  },
  {
   "cell_type": "markdown",
   "metadata": {
    "colab_type": "text",
    "id": "Ob_rBPCcKB5S"
   },
   "source": [
    "เซตค่า seed เพื่อ random ให้ได้ค่าเดิม"
   ]
  },
  {
   "cell_type": "code",
   "execution_count": 0,
   "metadata": {
    "colab": {},
    "colab_type": "code",
    "id": "sc_NbwqAAkUO"
   },
   "outputs": [],
   "source": [
    "np.random.seed(1)"
   ]
  },
  {
   "cell_type": "markdown",
   "metadata": {
    "colab_type": "text",
    "id": "SeUzrgklKG9o"
   },
   "source": [
    "สร้าง array ที่มีค่า random ค่าระหว่าง (0,1)"
   ]
  },
  {
   "cell_type": "code",
   "execution_count": 0,
   "metadata": {
    "colab": {
     "base_uri": "https://localhost:8080/",
     "height": 68
    },
    "colab_type": "code",
    "executionInfo": {
     "elapsed": 1663,
     "status": "ok",
     "timestamp": 1548173300330,
     "user": {
      "displayName": "Witchapong Daroontham",
      "photoUrl": "",
      "userId": "15288324432596741279"
     },
     "user_tz": -420
    },
    "id": "GixRVcmCBl3R",
    "outputId": "9441036e-2a06-4ccc-d0d3-c09aea54eac9"
   },
   "outputs": [
    {
     "data": {
      "text/plain": [
       "array([[4.17022005e-01, 7.20324493e-01],\n",
       "       [1.14374817e-04, 3.02332573e-01],\n",
       "       [1.46755891e-01, 9.23385948e-02]])"
      ]
     },
     "metadata": {
      "tags": []
     },
     "output_type": "display_data"
    }
   ],
   "source": [
    "display(np.random.rand(3,2))"
   ]
  },
  {
   "cell_type": "markdown",
   "metadata": {
    "colab_type": "text",
    "id": "hZOmTtPaKLCQ"
   },
   "source": [
    "สร้าง array ที่มีค่า random แบบ normal distribution (mean=0, std=1)"
   ]
  },
  {
   "cell_type": "code",
   "execution_count": 0,
   "metadata": {
    "colab": {
     "base_uri": "https://localhost:8080/",
     "height": 68
    },
    "colab_type": "code",
    "executionInfo": {
     "elapsed": 1659,
     "status": "ok",
     "timestamp": 1548173300332,
     "user": {
      "displayName": "Witchapong Daroontham",
      "photoUrl": "",
      "userId": "15288324432596741279"
     },
     "user_tz": -420
    },
    "id": "USsJAuJBDNy-",
    "outputId": "427260e1-6df7-4fbd-caba-527888820063"
   },
   "outputs": [
    {
     "data": {
      "text/plain": [
       "array([[-0.52817175, -1.07296862],\n",
       "       [ 0.86540763, -2.3015387 ],\n",
       "       [ 1.74481176, -0.7612069 ]])"
      ]
     },
     "metadata": {
      "tags": []
     },
     "output_type": "display_data"
    }
   ],
   "source": [
    "display(np.random.randn(3,2))"
   ]
  },
  {
   "cell_type": "markdown",
   "metadata": {
    "colab_type": "text",
    "id": "THVpsDzEKTd2"
   },
   "source": [
    "random ค่าจากใน list โดยกำหนดค่า probabability ของแต่ละตัวได้"
   ]
  },
  {
   "cell_type": "code",
   "execution_count": 0,
   "metadata": {
    "colab": {
     "base_uri": "https://localhost:8080/",
     "height": 34
    },
    "colab_type": "code",
    "executionInfo": {
     "elapsed": 1653,
     "status": "ok",
     "timestamp": 1548173300333,
     "user": {
      "displayName": "Witchapong Daroontham",
      "photoUrl": "",
      "userId": "15288324432596741279"
     },
     "user_tz": -420
    },
    "id": "XWZJyInwFXz8",
    "outputId": "c8eb1994-5a25-484b-b66c-b56e1348f628"
   },
   "outputs": [
    {
     "data": {
      "text/plain": [
       "'7'"
      ]
     },
     "metadata": {
      "tags": []
     },
     "output_type": "display_data"
    }
   ],
   "source": [
    "display(np.random.choice([3,'nay',7,'yay',11],p=[0.1,0.1,0.2,0.3,0.3]))"
   ]
  }
 ],
 "metadata": {
  "colab": {
   "collapsed_sections": [],
   "name": "7) Basic numpy.ipynb",
   "provenance": [],
   "version": "0.3.2"
  },
  "kernelspec": {
   "display_name": "Python 3",
   "language": "python",
   "name": "python3"
  },
  "language_info": {
   "codemirror_mode": {
    "name": "ipython",
    "version": 3
   },
   "file_extension": ".py",
   "mimetype": "text/x-python",
   "name": "python",
   "nbconvert_exporter": "python",
   "pygments_lexer": "ipython3",
   "version": "3.5.2"
  }
 },
 "nbformat": 4,
 "nbformat_minor": 1
}
