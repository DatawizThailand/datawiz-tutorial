{
 "cells": [
  {
   "cell_type": "markdown",
   "metadata": {},
   "source": [
    "# Stock Prediction using CNN\n",
    "\n",
    "**Prerequisite**\n",
    "```!pip install pandas_datareader --user```"
   ]
  },
  {
   "cell_type": "code",
   "execution_count": 11,
   "metadata": {},
   "outputs": [],
   "source": [
    "import sys\n",
    "import pandas as pd\n",
    "pd.core.common.is_list_like = pd.api.types.is_list_like\n",
    "\n",
    "from pandas_datareader import data as pdr\n",
    "from tqdm import tqdm,trange"
   ]
  },
  {
   "cell_type": "code",
   "execution_count": 12,
   "metadata": {
    "colab": {},
    "colab_type": "code",
    "id": "9uLP2S6lgaeU"
   },
   "outputs": [],
   "source": [
    "stock_list = ['KBANK','SCB','BBL','KTB','AOT','BEAUTY']"
   ]
  },
  {
   "cell_type": "code",
   "execution_count": 17,
   "metadata": {
    "colab": {
     "base_uri": "https://localhost:8080/",
     "height": 34
    },
    "colab_type": "code",
    "executionInfo": {
     "elapsed": 4746,
     "status": "ok",
     "timestamp": 1544286671681,
     "user": {
      "displayName": "Witchapong Daroontham",
      "photoUrl": "",
      "userId": "15288324432596741279"
     },
     "user_tz": -420
    },
    "id": "tygn4cVTgqYF",
    "outputId": "2e93d02f-611b-4358-8257-57e406c018bc",
    "scrolled": false
   },
   "outputs": [
    {
     "name": "stderr",
     "output_type": "stream",
     "text": [
      "100%|██████████| 6/6 [00:00<00:00, 2650.43it/s]"
     ]
    },
    {
     "name": "stdout",
     "output_type": "stream",
     "text": [
      "Error: <class 'pandas_datareader.exceptions.ImmediateDeprecationError'>\n",
      "Description: \n",
      "Yahoo Actions has been immediately deprecated due to large breaks in the API without the\n",
      "introduction of a stable replacement. Pull Requests to re-enable these data\n",
      "connectors are welcome.\n",
      "\n",
      "See https://github.com/pydata/pandas-datareader/issues\n",
      "\n",
      "Error: <class 'pandas_datareader.exceptions.ImmediateDeprecationError'>\n",
      "Description: \n",
      "Yahoo Actions has been immediately deprecated due to large breaks in the API without the\n",
      "introduction of a stable replacement. Pull Requests to re-enable these data\n",
      "connectors are welcome.\n",
      "\n",
      "See https://github.com/pydata/pandas-datareader/issues\n",
      "\n",
      "Error: <class 'pandas_datareader.exceptions.ImmediateDeprecationError'>\n",
      "Description: \n",
      "Yahoo Actions has been immediately deprecated due to large breaks in the API without the\n",
      "introduction of a stable replacement. Pull Requests to re-enable these data\n",
      "connectors are welcome.\n",
      "\n",
      "See https://github.com/pydata/pandas-datareader/issues\n",
      "\n",
      "Error: <class 'pandas_datareader.exceptions.ImmediateDeprecationError'>\n",
      "Description: \n",
      "Yahoo Actions has been immediately deprecated due to large breaks in the API without the\n",
      "introduction of a stable replacement. Pull Requests to re-enable these data\n",
      "connectors are welcome.\n",
      "\n",
      "See https://github.com/pydata/pandas-datareader/issues\n",
      "\n",
      "Error: <class 'pandas_datareader.exceptions.ImmediateDeprecationError'>\n",
      "Description: \n",
      "Yahoo Actions has been immediately deprecated due to large breaks in the API without the\n",
      "introduction of a stable replacement. Pull Requests to re-enable these data\n",
      "connectors are welcome.\n",
      "\n",
      "See https://github.com/pydata/pandas-datareader/issues\n",
      "\n",
      "Error: <class 'pandas_datareader.exceptions.ImmediateDeprecationError'>\n",
      "Description: \n",
      "Yahoo Actions has been immediately deprecated due to large breaks in the API without the\n",
      "introduction of a stable replacement. Pull Requests to re-enable these data\n",
      "connectors are welcome.\n",
      "\n",
      "See https://github.com/pydata/pandas-datareader/issues\n",
      "\n"
     ]
    },
    {
     "name": "stderr",
     "output_type": "stream",
     "text": [
      "\n"
     ]
    }
   ],
   "source": [
    "stock_data = []\n",
    "stock_name = []\n",
    "for quote in tqdm(stock_list):\n",
    "    try:\n",
    "        stock_data.append(pdr.get_data_yahoo('{}.BK'.format(quote), start='2010-01-01', end='2018-11-30'))\n",
    "        stock_name.append(quote)\n",
    "    except:\n",
    "        print(\"Error:\", sys.exc_info()[0])\n",
    "        print(\"Description:\", sys.exc_info()[1])"
   ]
  },
  {
   "cell_type": "code",
   "execution_count": 5,
   "metadata": {
    "colab": {
     "base_uri": "https://localhost:8080/",
     "height": 34
    },
    "colab_type": "code",
    "executionInfo": {
     "elapsed": 6094,
     "status": "ok",
     "timestamp": 1544286673360,
     "user": {
      "displayName": "Witchapong Daroontham",
      "photoUrl": "",
      "userId": "15288324432596741279"
     },
     "user_tz": -420
    },
    "id": "cs2cHDXng4sa",
    "outputId": "c92fe656-3afe-4dc4-a96e-c0be0bd2ff56"
   },
   "outputs": [
    {
     "name": "stderr",
     "output_type": "stream",
     "text": [
      "Using TensorFlow backend.\n"
     ]
    }
   ],
   "source": [
    "from keras.models import Sequential\n",
    "from keras.layers.core import Dense, Dropout, Activation, Flatten\n",
    "from keras.layers.recurrent import LSTM, GRU\n",
    "from keras.layers import Convolution1D, MaxPooling1D, AtrousConvolution1D, RepeatVector\n",
    "from keras.callbacks import ModelCheckpoint, ReduceLROnPlateau, CSVLogger\n",
    "from keras.layers.wrappers import Bidirectional\n",
    "from keras import regularizers\n",
    "from keras.layers.normalization import BatchNormalization\n",
    "from keras.layers.advanced_activations import *\n",
    "from keras.optimizers import RMSprop, Adam, SGD, Nadam\n",
    "from keras.initializers import *"
   ]
  },
  {
   "cell_type": "code",
   "execution_count": 0,
   "metadata": {
    "colab": {},
    "colab_type": "code",
    "id": "hxqFgK7oh4uU"
   },
   "outputs": [],
   "source": [
    "def create_Xt_Yt(X, y, percentage=0.9):\n",
    "    p = int(len(X) * percentage)\n",
    "    X_train = X[0:p]\n",
    "    Y_train = Y[0:p]\n",
    "     \n",
    "    X_train, Y_train = shuffle_in_unison(X_train, Y_train)\n",
    " \n",
    "    X_test = X[p:]\n",
    "    Y_test = y[p:]\n",
    "\n",
    "    return X_train, X_test, Y_train, Y_test\n",
    "  \n",
    "def shuffle_in_unison(a, b):\n",
    "    # courtsey http://stackoverflow.com/users/190280/josh-bleecher-snyder\n",
    "    assert len(a) == len(b)\n",
    "    shuffled_a = np.empty(a.shape, dtype=a.dtype)\n",
    "    shuffled_b = np.empty(b.shape, dtype=b.dtype)\n",
    "    permutation = np.random.permutation(len(a))\n",
    "    for old_index, new_index in enumerate(permutation):\n",
    "        shuffled_a[new_index] = a[old_index]\n",
    "        shuffled_b[new_index] = b[old_index]\n",
    "    return shuffled_a, shuffled_b"
   ]
  },
  {
   "cell_type": "code",
   "execution_count": 11,
   "metadata": {
    "colab": {
     "base_uri": "https://localhost:8080/",
     "height": 5171
    },
    "colab_type": "code",
    "executionInfo": {
     "elapsed": 103973,
     "status": "ok",
     "timestamp": 1544286998229,
     "user": {
      "displayName": "Witchapong Daroontham",
      "photoUrl": "",
      "userId": "15288324432596741279"
     },
     "user_tz": -420
    },
    "id": "UjT_I00qhIf1",
    "outputId": "f6e4d450-ad97-412b-a85d-daeb41683cef",
    "scrolled": false
   },
   "outputs": [
    {
     "name": "stderr",
     "output_type": "stream",
     "text": [
      "/usr/local/lib/python3.6/dist-packages/ipykernel_launcher.py:60: UserWarning: Update your `Conv1D` call to the Keras 2 API: `Conv1D(input_shape=(10, 5), filters=16, kernel_size=4, padding=\"same\")`\n",
      "/usr/local/lib/python3.6/dist-packages/ipykernel_launcher.py:67: UserWarning: Update your `Conv1D` call to the Keras 2 API: `Conv1D(filters=8, kernel_size=4, padding=\"same\")`\n"
     ]
    },
    {
     "name": "stdout",
     "output_type": "stream",
     "text": [
      "Epoch 1/150\n",
      "1304/1304 [==============================] - 2s 1ms/step - loss: 72.4465 - mean_squared_error: 72.4465\n",
      "Epoch 2/150\n",
      "1304/1304 [==============================] - 1s 516us/step - loss: 53.3175 - mean_squared_error: 53.3175\n",
      "Epoch 3/150\n",
      "1304/1304 [==============================] - 1s 504us/step - loss: 42.2464 - mean_squared_error: 42.2464\n",
      "Epoch 4/150\n",
      "1304/1304 [==============================] - 1s 519us/step - loss: 37.7881 - mean_squared_error: 37.7881\n",
      "Epoch 5/150\n",
      "1304/1304 [==============================] - 1s 517us/step - loss: 36.3184 - mean_squared_error: 36.3184\n",
      "Epoch 6/150\n",
      "1304/1304 [==============================] - 1s 511us/step - loss: 35.4429 - mean_squared_error: 35.4429\n",
      "Epoch 7/150\n",
      "1304/1304 [==============================] - 1s 511us/step - loss: 35.5525 - mean_squared_error: 35.5525\n",
      "Epoch 8/150\n",
      "1304/1304 [==============================] - 1s 510us/step - loss: 35.4173 - mean_squared_error: 35.4173\n",
      "Epoch 9/150\n",
      "1304/1304 [==============================] - 1s 503us/step - loss: 35.2698 - mean_squared_error: 35.2698\n",
      "Epoch 10/150\n",
      "1304/1304 [==============================] - 1s 510us/step - loss: 34.2669 - mean_squared_error: 34.2669\n",
      "Epoch 11/150\n",
      "1304/1304 [==============================] - 1s 499us/step - loss: 34.4248 - mean_squared_error: 34.4248\n",
      "Epoch 12/150\n",
      "1304/1304 [==============================] - 1s 508us/step - loss: 35.3869 - mean_squared_error: 35.3869\n",
      "Epoch 13/150\n",
      "1304/1304 [==============================] - 1s 516us/step - loss: 34.0917 - mean_squared_error: 34.0917\n",
      "Epoch 14/150\n",
      "1304/1304 [==============================] - 1s 510us/step - loss: 34.1931 - mean_squared_error: 34.1931\n",
      "Epoch 15/150\n",
      "1304/1304 [==============================] - 1s 521us/step - loss: 34.0243 - mean_squared_error: 34.0243\n",
      "Epoch 16/150\n",
      "1304/1304 [==============================] - 1s 512us/step - loss: 33.7239 - mean_squared_error: 33.7239\n",
      "Epoch 17/150\n",
      "1304/1304 [==============================] - 1s 521us/step - loss: 34.3555 - mean_squared_error: 34.3555\n",
      "Epoch 18/150\n",
      "1304/1304 [==============================] - 1s 512us/step - loss: 34.5367 - mean_squared_error: 34.5367\n",
      "Epoch 19/150\n",
      "1304/1304 [==============================] - 1s 516us/step - loss: 34.2839 - mean_squared_error: 34.2839\n",
      "Epoch 20/150\n",
      "1304/1304 [==============================] - 1s 505us/step - loss: 33.8455 - mean_squared_error: 33.8455\n",
      "Epoch 21/150\n",
      "1304/1304 [==============================] - 1s 513us/step - loss: 33.7040 - mean_squared_error: 33.7040\n",
      "Epoch 22/150\n",
      "1304/1304 [==============================] - 1s 511us/step - loss: 34.1344 - mean_squared_error: 34.1344\n",
      "Epoch 23/150\n",
      "1304/1304 [==============================] - 1s 506us/step - loss: 33.8864 - mean_squared_error: 33.8864\n",
      "Epoch 24/150\n",
      "1304/1304 [==============================] - 1s 512us/step - loss: 33.7829 - mean_squared_error: 33.7829\n",
      "Epoch 25/150\n",
      "1304/1304 [==============================] - 1s 515us/step - loss: 34.1625 - mean_squared_error: 34.1625\n",
      "Epoch 26/150\n",
      "1304/1304 [==============================] - 1s 503us/step - loss: 34.0558 - mean_squared_error: 34.0558\n",
      "Epoch 27/150\n",
      "1304/1304 [==============================] - 1s 508us/step - loss: 33.4580 - mean_squared_error: 33.4580\n",
      "Epoch 28/150\n",
      "1304/1304 [==============================] - 1s 498us/step - loss: 34.2599 - mean_squared_error: 34.2599\n",
      "Epoch 29/150\n",
      "1304/1304 [==============================] - 1s 514us/step - loss: 33.9025 - mean_squared_error: 33.9025\n",
      "Epoch 30/150\n",
      "1304/1304 [==============================] - 1s 510us/step - loss: 33.6817 - mean_squared_error: 33.6817\n",
      "Epoch 31/150\n",
      "1304/1304 [==============================] - 1s 517us/step - loss: 33.2502 - mean_squared_error: 33.2502\n",
      "Epoch 32/150\n",
      "1304/1304 [==============================] - 1s 507us/step - loss: 34.2584 - mean_squared_error: 34.2584\n",
      "Epoch 33/150\n",
      "1304/1304 [==============================] - 1s 523us/step - loss: 33.9766 - mean_squared_error: 33.9766\n",
      "Epoch 34/150\n",
      "1304/1304 [==============================] - 1s 509us/step - loss: 33.4096 - mean_squared_error: 33.4096\n",
      "Epoch 35/150\n",
      "1304/1304 [==============================] - 1s 516us/step - loss: 33.2792 - mean_squared_error: 33.2792\n",
      "Epoch 36/150\n",
      "1304/1304 [==============================] - 1s 518us/step - loss: 33.6547 - mean_squared_error: 33.6547\n",
      "Epoch 37/150\n",
      "1304/1304 [==============================] - 1s 504us/step - loss: 33.3967 - mean_squared_error: 33.3967\n",
      "Epoch 38/150\n",
      "1304/1304 [==============================] - 1s 517us/step - loss: 33.0292 - mean_squared_error: 33.0292\n",
      "Epoch 39/150\n",
      "1304/1304 [==============================] - 1s 516us/step - loss: 33.2102 - mean_squared_error: 33.2102\n",
      "Epoch 40/150\n",
      "1304/1304 [==============================] - 1s 507us/step - loss: 33.3362 - mean_squared_error: 33.3362\n",
      "Epoch 41/150\n",
      "1304/1304 [==============================] - 1s 521us/step - loss: 33.6292 - mean_squared_error: 33.6292\n",
      "Epoch 42/150\n",
      "1304/1304 [==============================] - 1s 503us/step - loss: 33.1022 - mean_squared_error: 33.1022\n",
      "Epoch 43/150\n",
      "1304/1304 [==============================] - 1s 497us/step - loss: 33.2342 - mean_squared_error: 33.2342\n",
      "Epoch 44/150\n",
      "1304/1304 [==============================] - 1s 509us/step - loss: 33.5464 - mean_squared_error: 33.5464\n",
      "Epoch 45/150\n",
      "1304/1304 [==============================] - 1s 510us/step - loss: 33.4067 - mean_squared_error: 33.4067\n",
      "Epoch 46/150\n",
      "1304/1304 [==============================] - 1s 498us/step - loss: 32.7581 - mean_squared_error: 32.7581\n",
      "Epoch 47/150\n",
      "1304/1304 [==============================] - 1s 512us/step - loss: 32.9726 - mean_squared_error: 32.9726\n",
      "Epoch 48/150\n",
      "1304/1304 [==============================] - 1s 490us/step - loss: 33.1404 - mean_squared_error: 33.1404\n",
      "Epoch 49/150\n",
      "1304/1304 [==============================] - 1s 514us/step - loss: 32.6945 - mean_squared_error: 32.6945\n",
      "Epoch 50/150\n",
      "1304/1304 [==============================] - 1s 512us/step - loss: 32.7686 - mean_squared_error: 32.7686\n",
      "Epoch 51/150\n",
      "1304/1304 [==============================] - 1s 501us/step - loss: 32.2009 - mean_squared_error: 32.2009\n",
      "Epoch 52/150\n",
      "1304/1304 [==============================] - 1s 518us/step - loss: 33.2016 - mean_squared_error: 33.2016\n",
      "Epoch 53/150\n",
      "1304/1304 [==============================] - 1s 515us/step - loss: 33.2514 - mean_squared_error: 33.2514\n",
      "Epoch 54/150\n",
      "1304/1304 [==============================] - 1s 505us/step - loss: 32.9762 - mean_squared_error: 32.9762\n",
      "Epoch 55/150\n",
      "1304/1304 [==============================] - 1s 515us/step - loss: 32.5048 - mean_squared_error: 32.5048\n",
      "Epoch 56/150\n",
      "1304/1304 [==============================] - 1s 508us/step - loss: 32.4655 - mean_squared_error: 32.4655\n",
      "Epoch 57/150\n",
      "1304/1304 [==============================] - 1s 505us/step - loss: 32.6373 - mean_squared_error: 32.6373\n",
      "Epoch 58/150\n",
      "1304/1304 [==============================] - 1s 516us/step - loss: 33.1355 - mean_squared_error: 33.1355\n",
      "Epoch 59/150\n",
      "1304/1304 [==============================] - 1s 510us/step - loss: 32.2887 - mean_squared_error: 32.2887\n",
      "Epoch 60/150\n",
      "1304/1304 [==============================] - 1s 498us/step - loss: 32.3308 - mean_squared_error: 32.3308\n",
      "Epoch 61/150\n",
      "1304/1304 [==============================] - 1s 522us/step - loss: 32.7314 - mean_squared_error: 32.7314\n",
      "Epoch 62/150\n",
      "1304/1304 [==============================] - 1s 507us/step - loss: 32.1381 - mean_squared_error: 32.1381\n",
      "Epoch 63/150\n",
      "1304/1304 [==============================] - 1s 509us/step - loss: 32.7121 - mean_squared_error: 32.7121\n",
      "Epoch 64/150\n",
      "1304/1304 [==============================] - 1s 508us/step - loss: 32.4688 - mean_squared_error: 32.4688\n",
      "Epoch 65/150\n",
      "1304/1304 [==============================] - 1s 489us/step - loss: 32.2750 - mean_squared_error: 32.2750\n",
      "Epoch 66/150\n",
      "1304/1304 [==============================] - 1s 503us/step - loss: 32.4660 - mean_squared_error: 32.4660\n",
      "Epoch 67/150\n",
      "1304/1304 [==============================] - 1s 519us/step - loss: 32.4359 - mean_squared_error: 32.4359\n",
      "Epoch 68/150\n",
      "1304/1304 [==============================] - 1s 501us/step - loss: 32.1442 - mean_squared_error: 32.1442\n",
      "Epoch 69/150\n",
      "1304/1304 [==============================] - 1s 509us/step - loss: 32.6341 - mean_squared_error: 32.6341\n",
      "Epoch 70/150\n",
      "1304/1304 [==============================] - 1s 507us/step - loss: 31.7833 - mean_squared_error: 31.7833\n",
      "Epoch 71/150\n",
      "1304/1304 [==============================] - 1s 500us/step - loss: 32.2980 - mean_squared_error: 32.2980\n",
      "Epoch 72/150\n",
      "1304/1304 [==============================] - 1s 506us/step - loss: 32.4418 - mean_squared_error: 32.4418\n",
      "Epoch 73/150\n",
      "1304/1304 [==============================] - 1s 514us/step - loss: 32.0239 - mean_squared_error: 32.0239\n",
      "Epoch 74/150\n",
      "1304/1304 [==============================] - 1s 495us/step - loss: 32.1823 - mean_squared_error: 32.1823\n",
      "Epoch 75/150\n",
      "1304/1304 [==============================] - 1s 509us/step - loss: 32.1715 - mean_squared_error: 32.1715\n",
      "Epoch 76/150\n",
      "1304/1304 [==============================] - 1s 522us/step - loss: 31.5265 - mean_squared_error: 31.5265\n",
      "Epoch 77/150\n",
      "1304/1304 [==============================] - 1s 522us/step - loss: 32.6328 - mean_squared_error: 32.6328\n",
      "Epoch 78/150\n",
      "1304/1304 [==============================] - 1s 516us/step - loss: 31.9623 - mean_squared_error: 31.9623\n",
      "Epoch 79/150\n",
      "1304/1304 [==============================] - 1s 504us/step - loss: 32.3866 - mean_squared_error: 32.3866\n",
      "Epoch 80/150\n",
      "1304/1304 [==============================] - 1s 508us/step - loss: 32.6600 - mean_squared_error: 32.6600\n",
      "Epoch 81/150\n",
      "1304/1304 [==============================] - 1s 515us/step - loss: 31.7007 - mean_squared_error: 31.7007\n",
      "Epoch 82/150\n",
      "1304/1304 [==============================] - 1s 504us/step - loss: 31.9689 - mean_squared_error: 31.9689\n",
      "Epoch 83/150\n",
      "1304/1304 [==============================] - 1s 509us/step - loss: 32.2022 - mean_squared_error: 32.2022\n",
      "Epoch 84/150\n",
      "1304/1304 [==============================] - 1s 509us/step - loss: 31.4031 - mean_squared_error: 31.4031\n",
      "Epoch 85/150\n",
      "1304/1304 [==============================] - 1s 500us/step - loss: 32.1613 - mean_squared_error: 32.1613\n",
      "Epoch 86/150\n",
      "1304/1304 [==============================] - 1s 512us/step - loss: 32.6875 - mean_squared_error: 32.6875\n",
      "Epoch 87/150\n",
      "1304/1304 [==============================] - 1s 509us/step - loss: 32.2411 - mean_squared_error: 32.2411\n",
      "Epoch 88/150\n",
      "1304/1304 [==============================] - 1s 497us/step - loss: 31.4771 - mean_squared_error: 31.4771\n",
      "Epoch 89/150\n",
      "1304/1304 [==============================] - 1s 509us/step - loss: 31.9726 - mean_squared_error: 31.9726\n",
      "Epoch 90/150\n",
      "1304/1304 [==============================] - 1s 508us/step - loss: 31.8509 - mean_squared_error: 31.8509\n",
      "Epoch 91/150\n",
      "1304/1304 [==============================] - 1s 503us/step - loss: 32.3904 - mean_squared_error: 32.3904\n",
      "Epoch 92/150\n",
      "1304/1304 [==============================] - 1s 505us/step - loss: 31.8085 - mean_squared_error: 31.8085\n",
      "Epoch 93/150\n",
      "1304/1304 [==============================] - 1s 505us/step - loss: 31.4164 - mean_squared_error: 31.4164\n",
      "Epoch 94/150\n",
      "1304/1304 [==============================] - 1s 501us/step - loss: 31.3573 - mean_squared_error: 31.3573\n",
      "Epoch 95/150\n",
      "1304/1304 [==============================] - 1s 513us/step - loss: 31.1745 - mean_squared_error: 31.1745\n",
      "Epoch 96/150\n",
      "1304/1304 [==============================] - 1s 495us/step - loss: 31.2693 - mean_squared_error: 31.2693\n",
      "Epoch 97/150\n",
      "1304/1304 [==============================] - 1s 512us/step - loss: 31.9039 - mean_squared_error: 31.9039\n",
      "Epoch 98/150\n",
      "1304/1304 [==============================] - 1s 509us/step - loss: 32.2662 - mean_squared_error: 32.2662\n",
      "Epoch 99/150\n",
      "1304/1304 [==============================] - 1s 508us/step - loss: 31.4154 - mean_squared_error: 31.4154\n",
      "Epoch 100/150\n",
      "1304/1304 [==============================] - 1s 517us/step - loss: 32.1627 - mean_squared_error: 32.1627\n",
      "Epoch 101/150\n",
      "1304/1304 [==============================] - 1s 507us/step - loss: 31.8680 - mean_squared_error: 31.8680\n",
      "Epoch 102/150\n",
      "1304/1304 [==============================] - 1s 497us/step - loss: 31.6758 - mean_squared_error: 31.6758\n",
      "Epoch 103/150\n",
      "1304/1304 [==============================] - 1s 508us/step - loss: 31.1770 - mean_squared_error: 31.1770\n",
      "Epoch 104/150\n",
      "1304/1304 [==============================] - 1s 491us/step - loss: 30.6672 - mean_squared_error: 30.6672\n",
      "Epoch 105/150\n",
      "1304/1304 [==============================] - 1s 506us/step - loss: 31.1895 - mean_squared_error: 31.1895\n",
      "Epoch 106/150\n",
      "1304/1304 [==============================] - 1s 524us/step - loss: 31.4919 - mean_squared_error: 31.4919\n",
      "Epoch 107/150\n",
      "1304/1304 [==============================] - 1s 496us/step - loss: 31.6852 - mean_squared_error: 31.6852\n",
      "Epoch 108/150\n",
      "1304/1304 [==============================] - 1s 515us/step - loss: 31.4484 - mean_squared_error: 31.4484\n",
      "Epoch 109/150\n",
      "1304/1304 [==============================] - 1s 512us/step - loss: 31.4437 - mean_squared_error: 31.4437\n",
      "Epoch 110/150\n",
      "1304/1304 [==============================] - 1s 514us/step - loss: 31.2250 - mean_squared_error: 31.2250\n",
      "Epoch 111/150\n",
      "1304/1304 [==============================] - 1s 524us/step - loss: 31.1212 - mean_squared_error: 31.1212\n",
      "Epoch 112/150\n",
      "1304/1304 [==============================] - 1s 508us/step - loss: 30.6368 - mean_squared_error: 30.6368\n",
      "Epoch 113/150\n",
      "1304/1304 [==============================] - 1s 496us/step - loss: 31.2470 - mean_squared_error: 31.2470\n",
      "Epoch 114/150\n",
      "1304/1304 [==============================] - 1s 507us/step - loss: 30.7161 - mean_squared_error: 30.7161\n",
      "Epoch 115/150\n",
      "1304/1304 [==============================] - 1s 508us/step - loss: 31.7143 - mean_squared_error: 31.7143\n",
      "Epoch 116/150\n",
      "1304/1304 [==============================] - 1s 502us/step - loss: 31.2318 - mean_squared_error: 31.2318\n",
      "Epoch 117/150\n",
      "1304/1304 [==============================] - 1s 508us/step - loss: 30.6884 - mean_squared_error: 30.6884\n",
      "Epoch 118/150\n",
      "1304/1304 [==============================] - 1s 506us/step - loss: 31.5084 - mean_squared_error: 31.5084\n",
      "Epoch 119/150\n",
      "1304/1304 [==============================] - 1s 502us/step - loss: 31.9062 - mean_squared_error: 31.9062\n",
      "Epoch 120/150\n",
      "1304/1304 [==============================] - 1s 514us/step - loss: 30.5511 - mean_squared_error: 30.5511\n",
      "Epoch 121/150\n",
      "1304/1304 [==============================] - 1s 499us/step - loss: 31.8703 - mean_squared_error: 31.8703\n",
      "Epoch 122/150\n",
      "1304/1304 [==============================] - 1s 524us/step - loss: 30.4417 - mean_squared_error: 30.4417\n",
      "Epoch 123/150\n",
      "1304/1304 [==============================] - 1s 508us/step - loss: 30.2295 - mean_squared_error: 30.2295\n",
      "Epoch 124/150\n",
      "1304/1304 [==============================] - 1s 515us/step - loss: 31.4663 - mean_squared_error: 31.4663\n",
      "Epoch 125/150\n",
      "1304/1304 [==============================] - 1s 511us/step - loss: 30.9485 - mean_squared_error: 30.9485\n",
      "Epoch 126/150\n",
      "1304/1304 [==============================] - 1s 504us/step - loss: 30.8853 - mean_squared_error: 30.8853\n",
      "Epoch 127/150\n",
      "1304/1304 [==============================] - 1s 499us/step - loss: 30.4511 - mean_squared_error: 30.4511\n",
      "Epoch 128/150\n",
      "1304/1304 [==============================] - 1s 510us/step - loss: 30.8337 - mean_squared_error: 30.8337\n",
      "Epoch 129/150\n",
      "1304/1304 [==============================] - 1s 510us/step - loss: 31.7090 - mean_squared_error: 31.7090\n",
      "Epoch 130/150\n",
      "1304/1304 [==============================] - 1s 514us/step - loss: 31.1316 - mean_squared_error: 31.1316\n",
      "Epoch 131/150\n",
      "1304/1304 [==============================] - 1s 511us/step - loss: 30.9520 - mean_squared_error: 30.9520\n",
      "Epoch 132/150\n",
      "1304/1304 [==============================] - 1s 510us/step - loss: 30.4608 - mean_squared_error: 30.4608\n",
      "Epoch 133/150\n",
      "1304/1304 [==============================] - 1s 503us/step - loss: 29.8632 - mean_squared_error: 29.8632\n",
      "Epoch 134/150\n",
      "1304/1304 [==============================] - 1s 507us/step - loss: 31.4905 - mean_squared_error: 31.4905\n",
      "Epoch 135/150\n",
      "1304/1304 [==============================] - 1s 499us/step - loss: 30.8620 - mean_squared_error: 30.8620\n",
      "Epoch 136/150\n",
      "1304/1304 [==============================] - 1s 508us/step - loss: 31.6860 - mean_squared_error: 31.6860\n",
      "Epoch 137/150\n",
      "1304/1304 [==============================] - 1s 512us/step - loss: 30.7727 - mean_squared_error: 30.7727\n",
      "Epoch 138/150\n",
      "1304/1304 [==============================] - 1s 506us/step - loss: 30.1766 - mean_squared_error: 30.1766\n",
      "Epoch 139/150\n",
      "1304/1304 [==============================] - 1s 508us/step - loss: 31.8895 - mean_squared_error: 31.8895\n",
      "Epoch 140/150\n",
      "1304/1304 [==============================] - 1s 506us/step - loss: 31.4286 - mean_squared_error: 31.4286\n",
      "Epoch 141/150\n",
      "1304/1304 [==============================] - 1s 493us/step - loss: 30.1885 - mean_squared_error: 30.1885\n",
      "Epoch 142/150\n",
      "1304/1304 [==============================] - 1s 501us/step - loss: 30.9320 - mean_squared_error: 30.9320\n",
      "Epoch 143/150\n",
      "1304/1304 [==============================] - 1s 506us/step - loss: 30.8694 - mean_squared_error: 30.8694\n",
      "Epoch 144/150\n",
      "1304/1304 [==============================] - 1s 499us/step - loss: 29.8568 - mean_squared_error: 29.8568\n",
      "Epoch 145/150\n",
      "1304/1304 [==============================] - 1s 509us/step - loss: 30.5393 - mean_squared_error: 30.5393\n",
      "Epoch 146/150\n",
      "1304/1304 [==============================] - 1s 510us/step - loss: 30.2748 - mean_squared_error: 30.2748\n",
      "Epoch 147/150\n",
      "1304/1304 [==============================] - 1s 494us/step - loss: 31.1124 - mean_squared_error: 31.1124\n",
      "Epoch 148/150\n",
      "1304/1304 [==============================] - 1s 505us/step - loss: 30.2833 - mean_squared_error: 30.2833\n",
      "Epoch 149/150\n",
      "1304/1304 [==============================] - 1s 498us/step - loss: 29.8749 - mean_squared_error: 29.8749\n",
      "Epoch 150/150\n",
      "1304/1304 [==============================] - 1s 509us/step - loss: 30.4143 - mean_squared_error: 30.4143\n"
     ]
    }
   ],
   "source": [
    "data_original = stock_data[-1]\n",
    "\n",
    "openp = data_original.ix[:, 'Open'].tolist()\n",
    "highp = data_original.ix[:, 'High'].tolist()\n",
    "lowp = data_original.ix[:, 'Low'].tolist()\n",
    "closep = data_original.ix[:, 'Adj Close'].tolist()\n",
    "volumep = data_original.ix[:, 'Volume'].tolist()\n",
    "\n",
    "# data_chng = data_original.ix[:, 'Adj Close'].pct_change().dropna().tolist()\n",
    "\n",
    "WINDOW = 10\n",
    "EMB_SIZE = 5\n",
    "STEP = 1\n",
    "FORECAST = 1\n",
    "\n",
    "X, Y = [], []\n",
    "for i in range(0, len(data_original), STEP): \n",
    "    try:\n",
    "        o = openp[i:i+WINDOW]\n",
    "        h = highp[i:i+WINDOW]\n",
    "        l = lowp[i:i+WINDOW]\n",
    "        c = closep[i:i+WINDOW]\n",
    "        v = volumep[i:i+WINDOW]\n",
    "\n",
    "        o = (np.array(o) - np.mean(o)) / np.std(o)\n",
    "        h = (np.array(h) - np.mean(h)) / np.std(h)\n",
    "        l = (np.array(l) - np.mean(l)) / np.std(l)\n",
    "        c = (np.array(c) - np.mean(c)) / np.std(c)\n",
    "        v = (np.array(v) - np.mean(v)) / np.std(v)\n",
    "\n",
    "#         x_i = closep[i:i+WINDOW]\n",
    "        y_i = closep[i+WINDOW+FORECAST]  \n",
    "\n",
    "#         next_close = y_i\n",
    "\n",
    "#         if last_close < next_close:\n",
    "#             y_i = [1, 0]\n",
    "#         else:\n",
    "#             y_i = [0, 1] \n",
    "\n",
    "        x_i = np.column_stack((o, h, l, c, v))\n",
    "\n",
    "    except Exception as e:\n",
    "        break\n",
    "\n",
    "    X.append(x_i)\n",
    "    Y.append(y_i)\n",
    "\n",
    "X, Y = np.array(X), np.array(Y)\n",
    "X_train, X_test, Y_train, Y_test = create_Xt_Yt(X, Y)\n",
    "\n",
    "X_train = np.reshape(X_train, (X_train.shape[0], X_train.shape[1], EMB_SIZE))\n",
    "X_test = np.reshape(X_test, (X_test.shape[0], X_test.shape[1], EMB_SIZE))\n",
    "\n",
    "\n",
    "model = Sequential()\n",
    "model.add(Convolution1D(input_shape = (WINDOW, EMB_SIZE),\n",
    "                        nb_filter=16,\n",
    "                        filter_length=4,\n",
    "                        border_mode='same'))\n",
    "model.add(BatchNormalization())\n",
    "model.add(LeakyReLU())\n",
    "model.add(Dropout(0.5))\n",
    "\n",
    "model.add(Convolution1D(nb_filter=8,\n",
    "                        filter_length=4,\n",
    "                        border_mode='same'))\n",
    "model.add(BatchNormalization())\n",
    "model.add(LeakyReLU())\n",
    "model.add(Dropout(0.5))\n",
    "\n",
    "model.add(Flatten())\n",
    "\n",
    "model.add(Dense(64))\n",
    "model.add(BatchNormalization())\n",
    "model.add(LeakyReLU())\n",
    "\n",
    "\n",
    "model.add(Dense(1))\n",
    "# model.add(Activation('softmax'))\n",
    "\n",
    "opt = Nadam(lr=0.002)\n",
    "\n",
    "reduce_lr = ReduceLROnPlateau(monitor='val_acc', factor=0.9, patience=30, min_lr=0.000001, verbose=1)\n",
    "# checkpointer = ModelCheckpoint(filepath=\"lolkek.hdf5\", verbose=1, save_best_only=True)\n",
    "\n",
    "\n",
    "model.compile(optimizer=opt, \n",
    "              loss='mse',\n",
    "              metrics=['mse'])\n",
    "\n",
    "model.fit(X_train,Y_train,epochs=150,verbose=1)\n",
    "pred = model.predict(np.array(X_test))"
   ]
  },
  {
   "cell_type": "code",
   "execution_count": 0,
   "metadata": {
    "colab": {},
    "colab_type": "code",
    "id": "mfWKoCvSjRgs"
   },
   "outputs": [],
   "source": [
    "import matplotlib.pyplot as plt\n",
    "%matplotlib inline"
   ]
  },
  {
   "cell_type": "code",
   "execution_count": 12,
   "metadata": {
    "colab": {
     "base_uri": "https://localhost:8080/",
     "height": 282
    },
    "colab_type": "code",
    "executionInfo": {
     "elapsed": 101129,
     "status": "ok",
     "timestamp": 1544286998999,
     "user": {
      "displayName": "Witchapong Daroontham",
      "photoUrl": "",
      "userId": "15288324432596741279"
     },
     "user_tz": -420
    },
    "id": "18yZREtVkCHU",
    "outputId": "b3c58906-3a5b-42cb-b4c2-74839f9dfac7"
   },
   "outputs": [
    {
     "data": {
      "text/plain": [
       "[<matplotlib.lines.Line2D at 0x7fdbd14c8588>]"
      ]
     },
     "execution_count": 12,
     "metadata": {
      "tags": []
     },
     "output_type": "execute_result"
    },
    {
     "data": {
      "image/png": "[encoded data removed]",
      "text/plain": [
       "<matplotlib.figure.Figure at 0x7fdbd14c8940>"
      ]
     },
     "metadata": {
      "tags": []
     },
     "output_type": "display_data"
    }
   ],
   "source": [
    "plt.plot(Y_test,'b')\n",
    "plt.plot(pred,'r')"
   ]
  },
  {
   "cell_type": "code",
   "execution_count": 13,
   "metadata": {
    "colab": {
     "base_uri": "https://localhost:8080/",
     "height": 282
    },
    "colab_type": "code",
    "executionInfo": {
     "elapsed": 98197,
     "status": "ok",
     "timestamp": 1544286999002,
     "user": {
      "displayName": "Witchapong Daroontham",
      "photoUrl": "",
      "userId": "15288324432596741279"
     },
     "user_tz": -420
    },
    "id": "s8lbE__GEp53",
    "outputId": "3b1d2897-c22e-42a8-f1ce-415a0cd595be"
   },
   "outputs": [
    {
     "data": {
      "text/plain": [
       "[<matplotlib.lines.Line2D at 0x7fdbc6d0eac8>]"
      ]
     },
     "execution_count": 13,
     "metadata": {
      "tags": []
     },
     "output_type": "execute_result"
    },
    {
     "data": {
      "image/png": "[encoded data removed]",
      "text/plain": [
       "<matplotlib.figure.Figure at 0x7fdbca5020f0>"
      ]
     },
     "metadata": {
      "tags": []
     },
     "output_type": "display_data"
    }
   ],
   "source": [
    "plt.plot(Y)"
   ]
  }
 ],
 "metadata": {
  "accelerator": "GPU",
  "colab": {
   "name": "6) Stock forecast-CNN.ipynb",
   "provenance": [],
   "version": "0.3.2"
  },
  "kernelspec": {
   "display_name": "Python 3",
   "language": "python",
   "name": "python3"
  },
  "language_info": {
   "codemirror_mode": {
    "name": "ipython",
    "version": 3
   },
   "file_extension": ".py",
   "mimetype": "text/x-python",
   "name": "python",
   "nbconvert_exporter": "python",
   "pygments_lexer": "ipython3",
   "version": "3.5.2"
  }
 },
 "nbformat": 4,
 "nbformat_minor": 1
}
